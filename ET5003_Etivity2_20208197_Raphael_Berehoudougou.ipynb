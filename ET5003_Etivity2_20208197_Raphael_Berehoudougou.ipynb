{
  "nbformat": 4,
  "nbformat_minor": 0,
  "metadata": {
    "colab": {
      "name": "ET5003_Etivity2_20208197_Raphael_Berehoudougou.ipynb",
      "provenance": [],
      "collapsed_sections": []
    },
    "kernelspec": {
      "name": "python3",
      "display_name": "Python 3"
    },
    "language_info": {
      "name": "python"
    }
  },
  "cells": [
    {
      "cell_type": "markdown",
      "metadata": {
        "id": "930vlW5BrOtq"
      },
      "source": [
        "<div>\n",
        "<img src=\"https://drive.google.com/uc?export=view&id=1vK33e_EqaHgBHcbRV_m38hx6IkG0blK_\" width=\"350\"/>\n",
        "</div> \n",
        "\n",
        "#**Artificial Intelligence - MSc**\n",
        "##ET5003 - MACHINE LEARNING APPLICATIONS \n",
        "\n",
        "###Instructor: Enrique Naredo\n",
        "###ET5003_Etivity-2"
      ]
    },
    {
      "cell_type": "code",
      "metadata": {
        "id": "LqXD_IwUQuBF",
        "cellView": "form"
      },
      "source": [
        "#@title Current Date\n",
        "Today = '2021-08-22' #@param {type:\"date\"}\n"
      ],
      "execution_count": 382,
      "outputs": []
    },
    {
      "cell_type": "code",
      "metadata": {
        "id": "uzDKau31OjVO",
        "cellView": "form"
      },
      "source": [
        "#@markdown ---\n",
        "#@markdown ### Enter your details here:\n",
        "Student_ID = \"20208197\" #@param {type:\"string\"}\n",
        "Student_full_name = \"Raphael A BEREHOUDOUGOU\" #@param {type:\"string\"}\n",
        "#@markdown ---"
      ],
      "execution_count": 383,
      "outputs": []
    },
    {
      "cell_type": "code",
      "metadata": {
        "id": "r39xGZckTpKx"
      },
      "source": [
        "#@title Notebook information\n",
        "Notebook_type = 'Example' #@param [\"Example\", \"Lab\", \"Practice\", \"Etivity\", \"Assignment\", \"Exam\"]\n",
        "Version = 'Draft' #@param [\"Draft\", \"Final\"] {type:\"raw\"}\n",
        "Submission = False #@param {type:\"boolean\"}"
      ],
      "execution_count": 384,
      "outputs": []
    },
    {
      "cell_type": "markdown",
      "metadata": {
        "id": "_A0Z6S-r6DpA"
      },
      "source": [
        "# INTRODUCTION"
      ]
    },
    {
      "cell_type": "markdown",
      "metadata": {
        "id": "QkRchZtf6IV-"
      },
      "source": [
        "**Piecewise regression**, extract from [Wikipedia](https://en.wikipedia.org/wiki/Segmented_regression):\n",
        "\n",
        "Segmented regression, also known as piecewise regression or broken-stick regression, is a method in regression analysis in which the independent variable is partitioned into intervals and a separate line segment is fit to each interval. \n",
        "\n",
        "* Segmented regression analysis can also be performed on \n",
        "multivariate data by partitioning the various independent variables. \n",
        "* Segmented regression is useful when the independent variables, clustered into different groups, exhibit different relationships between the variables in these regions. \n",
        "\n",
        "* The boundaries between the segments are breakpoints.\n",
        "\n",
        "* Segmented linear regression is segmented regression whereby the relations in the intervals are obtained by linear regression. "
      ]
    },
    {
      "cell_type": "markdown",
      "metadata": {
        "id": "aajlS0WCJ8pm"
      },
      "source": [
        "***The goal is to use advanced Machine Learning methods to predict House price.***"
      ]
    },
    {
      "cell_type": "markdown",
      "metadata": {
        "id": "Wg7VCbX77eAA"
      },
      "source": [
        "## Imports"
      ]
    },
    {
      "cell_type": "code",
      "metadata": {
        "id": "iFFLThrpwibd"
      },
      "source": [
        "# Suppressing Warnings:\n",
        "import warnings\n",
        "warnings.filterwarnings(\"ignore\")"
      ],
      "execution_count": 385,
      "outputs": []
    },
    {
      "cell_type": "code",
      "metadata": {
        "id": "d1770_fNrCWn"
      },
      "source": [
        "import pandas as pd\n",
        "import matplotlib.pyplot as plt\n",
        "import numpy as np\n",
        "import pymc3 as pm\n",
        "import arviz as az\n",
        "import seaborn as sns\n",
        "from sklearn.preprocessing import StandardScaler\n",
        "from sklearn.preprocessing import RobustScaler"
      ],
      "execution_count": 386,
      "outputs": []
    },
    {
      "cell_type": "code",
      "metadata": {
        "id": "sYPJU_Y6O6Dq"
      },
      "source": [
        "# to plot\n",
        "import matplotlib.colors\n",
        "from mpl_toolkits.mplot3d import Axes3D\n",
        "\n",
        "# to generate classification, regression and clustering datasets\n",
        "import sklearn.datasets as dt\n",
        "\n",
        "# to create data frames\n",
        "from pandas import DataFrame\n",
        "\n",
        "# to generate data from an existing dataset\n",
        "from sklearn.neighbors import KernelDensity\n",
        "from sklearn.model_selection import GridSearchCV"
      ],
      "execution_count": 387,
      "outputs": []
    },
    {
      "cell_type": "code",
      "metadata": {
        "id": "6MUJdlxSPSMM"
      },
      "source": [
        "# Define the seed so that results can be reproduced\n",
        "seed = 11\n",
        "rand_state = 11\n",
        "\n",
        "# Define the color maps for plots\n",
        "color_map = plt.cm.get_cmap('RdYlBu')\n",
        "color_map_discrete = matplotlib.colors.LinearSegmentedColormap.from_list(\"\", [\"red\",\"cyan\",\"magenta\",\"blue\"])"
      ],
      "execution_count": 388,
      "outputs": []
    },
    {
      "cell_type": "code",
      "metadata": {
        "colab": {
          "base_uri": "https://localhost:8080/"
        },
        "id": "4Hb_WArdYHoa",
        "outputId": "1052e82f-6586-4eaf-cae5-4c0205c3b506"
      },
      "source": [
        "from google.colab import drive\n",
        "drive.mount('/content/drive')"
      ],
      "execution_count": 389,
      "outputs": [
        {
          "output_type": "stream",
          "name": "stdout",
          "text": [
            "Drive already mounted at /content/drive; to attempt to forcibly remount, call drive.mount(\"/content/drive\", force_remount=True).\n"
          ]
        }
      ]
    },
    {
      "cell_type": "markdown",
      "metadata": {
        "id": "WL91ShB19RPw"
      },
      "source": [
        "# DATASET"
      ]
    },
    {
      "cell_type": "markdown",
      "metadata": {
        "id": "ESg5DGKWJSOf"
      },
      "source": [
        "Extract from this [paper](https://ieeexplore.ieee.org/document/9300074):\n",
        "\n",
        "* House prices are a significant impression of the economy, and its value ranges are of great concerns for the clients and property dealers. \n",
        "\n",
        "* Housing price escalate every year that eventually reinforced the need of strategy or technique that could predict house prices in future. \n",
        "\n",
        "* There are certain factors that influence house prices including physical conditions, locations, number of bedrooms and others.\n"
      ]
    },
    {
      "cell_type": "markdown",
      "metadata": {
        "id": "a8Y2pf50FlYL"
      },
      "source": [
        "1. [Download the dataset](https://github.com/UL-ET5003/ET5003_SEM1_2021-2/tree/main/Week-3). \n",
        "\n",
        "2. Upload the dataset into your folder.\n",
        "\n"
      ]
    },
    {
      "cell_type": "markdown",
      "metadata": {
        "id": "FMkdCQEmKTof"
      },
      "source": [
        "The challenge is to predict the final price of each house."
      ]
    },
    {
      "cell_type": "markdown",
      "metadata": {
        "id": "ztBkSZluye87"
      },
      "source": [
        "### Train dataset"
      ]
    },
    {
      "cell_type": "code",
      "metadata": {
        "id": "4rosmH4665uJ"
      },
      "source": [
        "#\n",
        "syntPath = '/content/drive/MyDrive/Colab Notebooks/e-tivity2/'\n",
        "# training file\n",
        "filename1 = 'house_train.csv'\n",
        "# test file\n",
        "filename2 = 'house_test.csv'\n",
        "# true price\n",
        "filename3 = 'true_price.csv'\n",
        "\n",
        "# training dataset: \n",
        "training_file = syntPath+filename1\n",
        "# test dataset: \n",
        "testing_file = syntPath+filename2\n",
        "# cost dataset: \n",
        "cost_file = syntPath+filename3"
      ],
      "execution_count": 390,
      "outputs": []
    },
    {
      "cell_type": "code",
      "metadata": {
        "id": "6XUFUPABMHfF",
        "colab": {
          "base_uri": "https://localhost:8080/",
          "height": 289
        },
        "outputId": "aaaf527a-7bf8-454d-8509-764efb08e451"
      },
      "source": [
        "# load training data\n",
        "dftrain = pd.read_csv(training_file)\n",
        "# show first data frame rows \n",
        "dftrain.head()"
      ],
      "execution_count": 391,
      "outputs": [
        {
          "output_type": "execute_result",
          "data": {
            "text/html": [
              "<div>\n",
              "<style scoped>\n",
              "    .dataframe tbody tr th:only-of-type {\n",
              "        vertical-align: middle;\n",
              "    }\n",
              "\n",
              "    .dataframe tbody tr th {\n",
              "        vertical-align: top;\n",
              "    }\n",
              "\n",
              "    .dataframe thead th {\n",
              "        text-align: right;\n",
              "    }\n",
              "</style>\n",
              "<table border=\"1\" class=\"dataframe\">\n",
              "  <thead>\n",
              "    <tr style=\"text-align: right;\">\n",
              "      <th></th>\n",
              "      <th>ad_id</th>\n",
              "      <th>area</th>\n",
              "      <th>bathrooms</th>\n",
              "      <th>beds</th>\n",
              "      <th>ber_classification</th>\n",
              "      <th>county</th>\n",
              "      <th>description_block</th>\n",
              "      <th>environment</th>\n",
              "      <th>facility</th>\n",
              "      <th>features</th>\n",
              "      <th>latitude</th>\n",
              "      <th>longitude</th>\n",
              "      <th>no_of_units</th>\n",
              "      <th>price</th>\n",
              "      <th>property_category</th>\n",
              "      <th>property_type</th>\n",
              "      <th>surface</th>\n",
              "    </tr>\n",
              "  </thead>\n",
              "  <tbody>\n",
              "    <tr>\n",
              "      <th>0</th>\n",
              "      <td>996887</td>\n",
              "      <td>Portmarnock</td>\n",
              "      <td>NaN</td>\n",
              "      <td>NaN</td>\n",
              "      <td>NaN</td>\n",
              "      <td>Dublin</td>\n",
              "      <td>A SELECTION OF 4 AND 5 BEDROOM FAMILY HOMES LO...</td>\n",
              "      <td>prod</td>\n",
              "      <td>NaN</td>\n",
              "      <td>None</td>\n",
              "      <td>53.418216</td>\n",
              "      <td>-6.149329</td>\n",
              "      <td>18.0</td>\n",
              "      <td>NaN</td>\n",
              "      <td>new_development_parent</td>\n",
              "      <td>NaN</td>\n",
              "      <td>NaN</td>\n",
              "    </tr>\n",
              "    <tr>\n",
              "      <th>1</th>\n",
              "      <td>999327</td>\n",
              "      <td>Lucan</td>\n",
              "      <td>NaN</td>\n",
              "      <td>NaN</td>\n",
              "      <td>NaN</td>\n",
              "      <td>Dublin</td>\n",
              "      <td>**Last 2 remaining houses for sale ***\\n\\nOn v...</td>\n",
              "      <td>prod</td>\n",
              "      <td>NaN</td>\n",
              "      <td>None</td>\n",
              "      <td>53.364917</td>\n",
              "      <td>-6.454935</td>\n",
              "      <td>3.0</td>\n",
              "      <td>NaN</td>\n",
              "      <td>new_development_parent</td>\n",
              "      <td>NaN</td>\n",
              "      <td>NaN</td>\n",
              "    </tr>\n",
              "    <tr>\n",
              "      <th>2</th>\n",
              "      <td>999559</td>\n",
              "      <td>Rathfarnham</td>\n",
              "      <td>NaN</td>\n",
              "      <td>NaN</td>\n",
              "      <td>NaN</td>\n",
              "      <td>Dublin</td>\n",
              "      <td>Final 4 &amp;amp; 5 Bedroom Homes for Sale\\n\\nOn V...</td>\n",
              "      <td>prod</td>\n",
              "      <td>NaN</td>\n",
              "      <td>None</td>\n",
              "      <td>53.273447</td>\n",
              "      <td>-6.313821</td>\n",
              "      <td>3.0</td>\n",
              "      <td>NaN</td>\n",
              "      <td>new_development_parent</td>\n",
              "      <td>NaN</td>\n",
              "      <td>NaN</td>\n",
              "    </tr>\n",
              "    <tr>\n",
              "      <th>3</th>\n",
              "      <td>9102986</td>\n",
              "      <td>Balbriggan</td>\n",
              "      <td>NaN</td>\n",
              "      <td>NaN</td>\n",
              "      <td>NaN</td>\n",
              "      <td>Dublin</td>\n",
              "      <td>Glenveagh Taylor Hill, Balbriggan\\n\\r\\n*Ideal ...</td>\n",
              "      <td>prod</td>\n",
              "      <td>NaN</td>\n",
              "      <td>None</td>\n",
              "      <td>53.608167</td>\n",
              "      <td>-6.210914</td>\n",
              "      <td>30.0</td>\n",
              "      <td>NaN</td>\n",
              "      <td>new_development_parent</td>\n",
              "      <td>NaN</td>\n",
              "      <td>NaN</td>\n",
              "    </tr>\n",
              "    <tr>\n",
              "      <th>4</th>\n",
              "      <td>9106028</td>\n",
              "      <td>Foxrock</td>\n",
              "      <td>NaN</td>\n",
              "      <td>NaN</td>\n",
              "      <td>NaN</td>\n",
              "      <td>Dublin</td>\n",
              "      <td>*New phase launching this weekend Sat &amp;amp; Su...</td>\n",
              "      <td>prod</td>\n",
              "      <td>NaN</td>\n",
              "      <td>None</td>\n",
              "      <td>53.262531</td>\n",
              "      <td>-6.181527</td>\n",
              "      <td>8.0</td>\n",
              "      <td>NaN</td>\n",
              "      <td>new_development_parent</td>\n",
              "      <td>NaN</td>\n",
              "      <td>NaN</td>\n",
              "    </tr>\n",
              "  </tbody>\n",
              "</table>\n",
              "</div>"
            ],
            "text/plain": [
              "     ad_id         area  ...  property_type  surface\n",
              "0   996887  Portmarnock  ...            NaN      NaN\n",
              "1   999327        Lucan  ...            NaN      NaN\n",
              "2   999559  Rathfarnham  ...            NaN      NaN\n",
              "3  9102986   Balbriggan  ...            NaN      NaN\n",
              "4  9106028      Foxrock  ...            NaN      NaN\n",
              "\n",
              "[5 rows x 17 columns]"
            ]
          },
          "metadata": {},
          "execution_count": 391
        }
      ]
    },
    {
      "cell_type": "code",
      "metadata": {
        "colab": {
          "base_uri": "https://localhost:8080/",
          "height": 391
        },
        "id": "_hxOdURWhHa7",
        "outputId": "7385b5ca-c5c3-448e-8ffb-4f18749dfd5f"
      },
      "source": [
        "# show last 5 row of training data\n",
        "dftrain.tail(5)"
      ],
      "execution_count": 392,
      "outputs": [
        {
          "output_type": "execute_result",
          "data": {
            "text/html": [
              "<div>\n",
              "<style scoped>\n",
              "    .dataframe tbody tr th:only-of-type {\n",
              "        vertical-align: middle;\n",
              "    }\n",
              "\n",
              "    .dataframe tbody tr th {\n",
              "        vertical-align: top;\n",
              "    }\n",
              "\n",
              "    .dataframe thead th {\n",
              "        text-align: right;\n",
              "    }\n",
              "</style>\n",
              "<table border=\"1\" class=\"dataframe\">\n",
              "  <thead>\n",
              "    <tr style=\"text-align: right;\">\n",
              "      <th></th>\n",
              "      <th>ad_id</th>\n",
              "      <th>area</th>\n",
              "      <th>bathrooms</th>\n",
              "      <th>beds</th>\n",
              "      <th>ber_classification</th>\n",
              "      <th>county</th>\n",
              "      <th>description_block</th>\n",
              "      <th>environment</th>\n",
              "      <th>facility</th>\n",
              "      <th>features</th>\n",
              "      <th>latitude</th>\n",
              "      <th>longitude</th>\n",
              "      <th>no_of_units</th>\n",
              "      <th>price</th>\n",
              "      <th>property_category</th>\n",
              "      <th>property_type</th>\n",
              "      <th>surface</th>\n",
              "    </tr>\n",
              "  </thead>\n",
              "  <tbody>\n",
              "    <tr>\n",
              "      <th>2977</th>\n",
              "      <td>12428232</td>\n",
              "      <td>Ballsbridge</td>\n",
              "      <td>2.0</td>\n",
              "      <td>2.0</td>\n",
              "      <td>C3</td>\n",
              "      <td>Dublin</td>\n",
              "      <td>Sherry FitzGerald are delighted to present Apa...</td>\n",
              "      <td>prod</td>\n",
              "      <td>NaN</td>\n",
              "      <td>Prime Location\\nManagement Co: Core Property M...</td>\n",
              "      <td>53.338738</td>\n",
              "      <td>-6.237199</td>\n",
              "      <td>NaN</td>\n",
              "      <td>415000.0</td>\n",
              "      <td>sale</td>\n",
              "      <td>apartment</td>\n",
              "      <td>56.0</td>\n",
              "    </tr>\n",
              "    <tr>\n",
              "      <th>2978</th>\n",
              "      <td>12428240</td>\n",
              "      <td>Rialto</td>\n",
              "      <td>1.0</td>\n",
              "      <td>3.0</td>\n",
              "      <td>B2</td>\n",
              "      <td>Dublin</td>\n",
              "      <td>Property Team Patrick Moran is delighted to pr...</td>\n",
              "      <td>prod</td>\n",
              "      <td>NaN</td>\n",
              "      <td>Totally refurbished to the highest standard. \\...</td>\n",
              "      <td>53.335793</td>\n",
              "      <td>-6.294268</td>\n",
              "      <td>NaN</td>\n",
              "      <td>485000.0</td>\n",
              "      <td>sale</td>\n",
              "      <td>terraced</td>\n",
              "      <td>101.0</td>\n",
              "    </tr>\n",
              "    <tr>\n",
              "      <th>2979</th>\n",
              "      <td>12428247</td>\n",
              "      <td>Smithfield</td>\n",
              "      <td>1.0</td>\n",
              "      <td>2.0</td>\n",
              "      <td>C3</td>\n",
              "      <td>Dublin</td>\n",
              "      <td>Earnest estate agents are delighted to present...</td>\n",
              "      <td>prod</td>\n",
              "      <td>Wired for Cable Television</td>\n",
              "      <td>OVERLOOKING THE RIVER LIFFEY \\n3RD FLOOR APART...</td>\n",
              "      <td>53.346098</td>\n",
              "      <td>-6.276856</td>\n",
              "      <td>NaN</td>\n",
              "      <td>299000.0</td>\n",
              "      <td>sale</td>\n",
              "      <td>apartment</td>\n",
              "      <td>55.6</td>\n",
              "    </tr>\n",
              "    <tr>\n",
              "      <th>2980</th>\n",
              "      <td>12428254</td>\n",
              "      <td>Foxrock</td>\n",
              "      <td>2.0</td>\n",
              "      <td>3.0</td>\n",
              "      <td>C3</td>\n",
              "      <td>Dublin</td>\n",
              "      <td>Janet Carroll Estate Agents are pleased to pre...</td>\n",
              "      <td>prod</td>\n",
              "      <td>Parking,Gas Fired Central Heating</td>\n",
              "      <td>None</td>\n",
              "      <td>53.273518</td>\n",
              "      <td>-6.178500</td>\n",
              "      <td>NaN</td>\n",
              "      <td>495000.0</td>\n",
              "      <td>sale</td>\n",
              "      <td>end-of-terrace</td>\n",
              "      <td>97.0</td>\n",
              "    </tr>\n",
              "    <tr>\n",
              "      <th>2981</th>\n",
              "      <td>12428358</td>\n",
              "      <td>Terenure</td>\n",
              "      <td>2.0</td>\n",
              "      <td>3.0</td>\n",
              "      <td>D2</td>\n",
              "      <td>Dublin</td>\n",
              "      <td>ON VIEW SATURDAY 7 TH MARCH 2020 11:30 AM - 12...</td>\n",
              "      <td>prod</td>\n",
              "      <td>NaN</td>\n",
              "      <td>Charming three-bedroom family home\\nMinutes aw...</td>\n",
              "      <td>53.310073</td>\n",
              "      <td>-6.325158</td>\n",
              "      <td>NaN</td>\n",
              "      <td>525000.0</td>\n",
              "      <td>sale</td>\n",
              "      <td>semi-detached</td>\n",
              "      <td>129.3</td>\n",
              "    </tr>\n",
              "  </tbody>\n",
              "</table>\n",
              "</div>"
            ],
            "text/plain": [
              "         ad_id         area  ...   property_type  surface\n",
              "2977  12428232  Ballsbridge  ...       apartment     56.0\n",
              "2978  12428240       Rialto  ...        terraced    101.0\n",
              "2979  12428247   Smithfield  ...       apartment     55.6\n",
              "2980  12428254      Foxrock  ...  end-of-terrace     97.0\n",
              "2981  12428358     Terenure  ...   semi-detached    129.3\n",
              "\n",
              "[5 rows x 17 columns]"
            ]
          },
          "metadata": {},
          "execution_count": 392
        }
      ]
    },
    {
      "cell_type": "code",
      "metadata": {
        "id": "5rq_p-D4yLBe",
        "colab": {
          "base_uri": "https://localhost:8080/",
          "height": 297
        },
        "outputId": "402059f3-382a-4949-b5ef-f8bcd99e5d0c"
      },
      "source": [
        "# Generate descriptive statistics\n",
        "dftrain.describe()"
      ],
      "execution_count": 393,
      "outputs": [
        {
          "output_type": "execute_result",
          "data": {
            "text/html": [
              "<div>\n",
              "<style scoped>\n",
              "    .dataframe tbody tr th:only-of-type {\n",
              "        vertical-align: middle;\n",
              "    }\n",
              "\n",
              "    .dataframe tbody tr th {\n",
              "        vertical-align: top;\n",
              "    }\n",
              "\n",
              "    .dataframe thead th {\n",
              "        text-align: right;\n",
              "    }\n",
              "</style>\n",
              "<table border=\"1\" class=\"dataframe\">\n",
              "  <thead>\n",
              "    <tr style=\"text-align: right;\">\n",
              "      <th></th>\n",
              "      <th>ad_id</th>\n",
              "      <th>bathrooms</th>\n",
              "      <th>beds</th>\n",
              "      <th>latitude</th>\n",
              "      <th>longitude</th>\n",
              "      <th>no_of_units</th>\n",
              "      <th>price</th>\n",
              "      <th>surface</th>\n",
              "    </tr>\n",
              "  </thead>\n",
              "  <tbody>\n",
              "    <tr>\n",
              "      <th>count</th>\n",
              "      <td>2.982000e+03</td>\n",
              "      <td>2931.000000</td>\n",
              "      <td>2931.000000</td>\n",
              "      <td>2982.000000</td>\n",
              "      <td>2982.000000</td>\n",
              "      <td>59.000000</td>\n",
              "      <td>2.892000e+03</td>\n",
              "      <td>2431.000000</td>\n",
              "    </tr>\n",
              "    <tr>\n",
              "      <th>mean</th>\n",
              "      <td>1.224065e+07</td>\n",
              "      <td>1.998635</td>\n",
              "      <td>2.979188</td>\n",
              "      <td>53.355991</td>\n",
              "      <td>-6.257175</td>\n",
              "      <td>7.440678</td>\n",
              "      <td>5.323536e+05</td>\n",
              "      <td>318.851787</td>\n",
              "    </tr>\n",
              "    <tr>\n",
              "      <th>std</th>\n",
              "      <td>5.793037e+05</td>\n",
              "      <td>1.291875</td>\n",
              "      <td>1.468408</td>\n",
              "      <td>0.086748</td>\n",
              "      <td>0.141906</td>\n",
              "      <td>8.937081</td>\n",
              "      <td>5.678148e+05</td>\n",
              "      <td>4389.423136</td>\n",
              "    </tr>\n",
              "    <tr>\n",
              "      <th>min</th>\n",
              "      <td>9.968870e+05</td>\n",
              "      <td>0.000000</td>\n",
              "      <td>0.000000</td>\n",
              "      <td>51.458439</td>\n",
              "      <td>-6.521183</td>\n",
              "      <td>0.000000</td>\n",
              "      <td>1.999500e+04</td>\n",
              "      <td>3.400000</td>\n",
              "    </tr>\n",
              "    <tr>\n",
              "      <th>25%</th>\n",
              "      <td>1.226813e+07</td>\n",
              "      <td>1.000000</td>\n",
              "      <td>2.000000</td>\n",
              "      <td>53.298929</td>\n",
              "      <td>-6.314064</td>\n",
              "      <td>2.000000</td>\n",
              "      <td>2.800000e+05</td>\n",
              "      <td>74.100000</td>\n",
              "    </tr>\n",
              "    <tr>\n",
              "      <th>50%</th>\n",
              "      <td>1.237758e+07</td>\n",
              "      <td>2.000000</td>\n",
              "      <td>3.000000</td>\n",
              "      <td>53.345497</td>\n",
              "      <td>-6.252254</td>\n",
              "      <td>3.000000</td>\n",
              "      <td>3.800000e+05</td>\n",
              "      <td>100.000000</td>\n",
              "    </tr>\n",
              "    <tr>\n",
              "      <th>75%</th>\n",
              "      <td>1.240294e+07</td>\n",
              "      <td>3.000000</td>\n",
              "      <td>4.000000</td>\n",
              "      <td>53.388845</td>\n",
              "      <td>-6.196049</td>\n",
              "      <td>8.000000</td>\n",
              "      <td>5.750000e+05</td>\n",
              "      <td>142.000000</td>\n",
              "    </tr>\n",
              "    <tr>\n",
              "      <th>max</th>\n",
              "      <td>1.242836e+07</td>\n",
              "      <td>18.000000</td>\n",
              "      <td>27.000000</td>\n",
              "      <td>53.630588</td>\n",
              "      <td>-1.744995</td>\n",
              "      <td>36.000000</td>\n",
              "      <td>9.995000e+06</td>\n",
              "      <td>182108.539008</td>\n",
              "    </tr>\n",
              "  </tbody>\n",
              "</table>\n",
              "</div>"
            ],
            "text/plain": [
              "              ad_id    bathrooms  ...         price        surface\n",
              "count  2.982000e+03  2931.000000  ...  2.892000e+03    2431.000000\n",
              "mean   1.224065e+07     1.998635  ...  5.323536e+05     318.851787\n",
              "std    5.793037e+05     1.291875  ...  5.678148e+05    4389.423136\n",
              "min    9.968870e+05     0.000000  ...  1.999500e+04       3.400000\n",
              "25%    1.226813e+07     1.000000  ...  2.800000e+05      74.100000\n",
              "50%    1.237758e+07     2.000000  ...  3.800000e+05     100.000000\n",
              "75%    1.240294e+07     3.000000  ...  5.750000e+05     142.000000\n",
              "max    1.242836e+07    18.000000  ...  9.995000e+06  182108.539008\n",
              "\n",
              "[8 rows x 8 columns]"
            ]
          },
          "metadata": {},
          "execution_count": 393
        }
      ]
    },
    {
      "cell_type": "markdown",
      "metadata": {
        "id": "r1YeSXw6j7yY"
      },
      "source": [
        "The dataset has 2982 rows of both numerical and categorical features"
      ]
    },
    {
      "cell_type": "markdown",
      "metadata": {
        "id": "Hc4z8fJtg-Gp"
      },
      "source": [
        "We have:\n",
        " \n",
        "\n",
        "*   2982 rows of data in the file\n",
        "*   `bathrooms` has (2982 - 2931) 51 missing values\n",
        "*   `beds` has (2982 - 2931 ) 51 missing values\n",
        "*   `no_of_units` has (2982 - 59 ) 2923 missing values\n",
        "*   `price` has ( 2982 - 2892) 90 missing values\n",
        "*   `surface` has (2982 - 2431) 551 missing values\n",
        "\n",
        "\n",
        "\n"
      ]
    },
    {
      "cell_type": "markdown",
      "metadata": {
        "id": "Iqg9_uxFyZli"
      },
      "source": [
        "### Test dataset"
      ]
    },
    {
      "cell_type": "code",
      "metadata": {
        "id": "bw2_yypxMfsi",
        "colab": {
          "base_uri": "https://localhost:8080/",
          "height": 357
        },
        "outputId": "6b647047-8d79-44ae-987c-72ddb6b084aa"
      },
      "source": [
        "# show first data frame rows \n",
        "dftest = pd.read_csv(testing_file)\n",
        "dftest.head()"
      ],
      "execution_count": 394,
      "outputs": [
        {
          "output_type": "execute_result",
          "data": {
            "text/html": [
              "<div>\n",
              "<style scoped>\n",
              "    .dataframe tbody tr th:only-of-type {\n",
              "        vertical-align: middle;\n",
              "    }\n",
              "\n",
              "    .dataframe tbody tr th {\n",
              "        vertical-align: top;\n",
              "    }\n",
              "\n",
              "    .dataframe thead th {\n",
              "        text-align: right;\n",
              "    }\n",
              "</style>\n",
              "<table border=\"1\" class=\"dataframe\">\n",
              "  <thead>\n",
              "    <tr style=\"text-align: right;\">\n",
              "      <th></th>\n",
              "      <th>ad_id</th>\n",
              "      <th>area</th>\n",
              "      <th>bathrooms</th>\n",
              "      <th>beds</th>\n",
              "      <th>ber_classification</th>\n",
              "      <th>county</th>\n",
              "      <th>description_block</th>\n",
              "      <th>environment</th>\n",
              "      <th>facility</th>\n",
              "      <th>features</th>\n",
              "      <th>latitude</th>\n",
              "      <th>longitude</th>\n",
              "      <th>no_of_units</th>\n",
              "      <th>property_category</th>\n",
              "      <th>property_type</th>\n",
              "      <th>surface</th>\n",
              "    </tr>\n",
              "  </thead>\n",
              "  <tbody>\n",
              "    <tr>\n",
              "      <th>0</th>\n",
              "      <td>12373510</td>\n",
              "      <td>Skerries</td>\n",
              "      <td>2.0</td>\n",
              "      <td>4.0</td>\n",
              "      <td>G</td>\n",
              "      <td>Dublin</td>\n",
              "      <td>It's all in the name \"Island View\";. Truly won...</td>\n",
              "      <td>prod</td>\n",
              "      <td>Parking,Alarm,Oil Fired Central Heating</td>\n",
              "      <td>Breath-taking panoramic views radiate from thi...</td>\n",
              "      <td>53.566881</td>\n",
              "      <td>-6.101148</td>\n",
              "      <td>NaN</td>\n",
              "      <td>sale</td>\n",
              "      <td>bungalow</td>\n",
              "      <td>142.0</td>\n",
              "    </tr>\n",
              "    <tr>\n",
              "      <th>1</th>\n",
              "      <td>12422623</td>\n",
              "      <td>Lucan</td>\n",
              "      <td>2.0</td>\n",
              "      <td>3.0</td>\n",
              "      <td>C1</td>\n",
              "      <td>Dublin</td>\n",
              "      <td>REA McDonald - Lucan' s longest established es...</td>\n",
              "      <td>prod</td>\n",
              "      <td>NaN</td>\n",
              "      <td>Gas fired central heating.\\nDouble glazed wind...</td>\n",
              "      <td>53.362992</td>\n",
              "      <td>-6.452909</td>\n",
              "      <td>NaN</td>\n",
              "      <td>sale</td>\n",
              "      <td>terraced</td>\n",
              "      <td>114.0</td>\n",
              "    </tr>\n",
              "    <tr>\n",
              "      <th>2</th>\n",
              "      <td>12377408</td>\n",
              "      <td>Swords</td>\n",
              "      <td>3.0</td>\n",
              "      <td>4.0</td>\n",
              "      <td>B3</td>\n",
              "      <td>Dublin</td>\n",
              "      <td>REA Grimes are proud to present to the market ...</td>\n",
              "      <td>prod</td>\n",
              "      <td>NaN</td>\n",
              "      <td>Pristine condition throughout\\nHighly sought-a...</td>\n",
              "      <td>53.454198</td>\n",
              "      <td>-6.262964</td>\n",
              "      <td>NaN</td>\n",
              "      <td>sale</td>\n",
              "      <td>semi-detached</td>\n",
              "      <td>172.0</td>\n",
              "    </tr>\n",
              "    <tr>\n",
              "      <th>3</th>\n",
              "      <td>12420093</td>\n",
              "      <td>Lucan</td>\n",
              "      <td>4.0</td>\n",
              "      <td>3.0</td>\n",
              "      <td>A3</td>\n",
              "      <td>Dublin</td>\n",
              "      <td>REA McDonald, Lucan' s longest established est...</td>\n",
              "      <td>prod</td>\n",
              "      <td>NaN</td>\n",
              "      <td>A-rated home within a short walk of Lucan Vill...</td>\n",
              "      <td>53.354402</td>\n",
              "      <td>-6.458647</td>\n",
              "      <td>NaN</td>\n",
              "      <td>sale</td>\n",
              "      <td>semi-detached</td>\n",
              "      <td>132.4</td>\n",
              "    </tr>\n",
              "    <tr>\n",
              "      <th>4</th>\n",
              "      <td>12417338</td>\n",
              "      <td>Clondalkin</td>\n",
              "      <td>1.0</td>\n",
              "      <td>3.0</td>\n",
              "      <td>E2</td>\n",
              "      <td>Dublin</td>\n",
              "      <td>Hibernian Auctioneers are delighted to bring, ...</td>\n",
              "      <td>prod</td>\n",
              "      <td>Parking,Gas Fired Central Heating,Wired for Ca...</td>\n",
              "      <td>Mature Location \\nGas Heating \\nClose to Ameni...</td>\n",
              "      <td>53.336530</td>\n",
              "      <td>-6.393587</td>\n",
              "      <td>NaN</td>\n",
              "      <td>sale</td>\n",
              "      <td>semi-detached</td>\n",
              "      <td>88.0</td>\n",
              "    </tr>\n",
              "  </tbody>\n",
              "</table>\n",
              "</div>"
            ],
            "text/plain": [
              "      ad_id        area  bathrooms  ...  property_category  property_type surface\n",
              "0  12373510    Skerries        2.0  ...               sale       bungalow   142.0\n",
              "1  12422623       Lucan        2.0  ...               sale       terraced   114.0\n",
              "2  12377408      Swords        3.0  ...               sale  semi-detached   172.0\n",
              "3  12420093       Lucan        4.0  ...               sale  semi-detached   132.4\n",
              "4  12417338  Clondalkin        1.0  ...               sale  semi-detached    88.0\n",
              "\n",
              "[5 rows x 16 columns]"
            ]
          },
          "metadata": {},
          "execution_count": 394
        }
      ]
    },
    {
      "cell_type": "code",
      "metadata": {
        "id": "FXo0x2u7T7-1",
        "colab": {
          "base_uri": "https://localhost:8080/",
          "height": 297
        },
        "outputId": "35f2957e-0a82-4cec-8bab-0993bd0f9c38"
      },
      "source": [
        "# Generate descriptive statistics\n",
        "dftest.describe()"
      ],
      "execution_count": 395,
      "outputs": [
        {
          "output_type": "execute_result",
          "data": {
            "text/html": [
              "<div>\n",
              "<style scoped>\n",
              "    .dataframe tbody tr th:only-of-type {\n",
              "        vertical-align: middle;\n",
              "    }\n",
              "\n",
              "    .dataframe tbody tr th {\n",
              "        vertical-align: top;\n",
              "    }\n",
              "\n",
              "    .dataframe thead th {\n",
              "        text-align: right;\n",
              "    }\n",
              "</style>\n",
              "<table border=\"1\" class=\"dataframe\">\n",
              "  <thead>\n",
              "    <tr style=\"text-align: right;\">\n",
              "      <th></th>\n",
              "      <th>ad_id</th>\n",
              "      <th>bathrooms</th>\n",
              "      <th>beds</th>\n",
              "      <th>latitude</th>\n",
              "      <th>longitude</th>\n",
              "      <th>no_of_units</th>\n",
              "      <th>surface</th>\n",
              "    </tr>\n",
              "  </thead>\n",
              "  <tbody>\n",
              "    <tr>\n",
              "      <th>count</th>\n",
              "      <td>5.000000e+02</td>\n",
              "      <td>500.000000</td>\n",
              "      <td>500.000000</td>\n",
              "      <td>500.000000</td>\n",
              "      <td>500.000000</td>\n",
              "      <td>0.0</td>\n",
              "      <td>500.000000</td>\n",
              "    </tr>\n",
              "    <tr>\n",
              "      <th>mean</th>\n",
              "      <td>1.231695e+07</td>\n",
              "      <td>1.994000</td>\n",
              "      <td>2.930000</td>\n",
              "      <td>53.356034</td>\n",
              "      <td>-6.247842</td>\n",
              "      <td>NaN</td>\n",
              "      <td>156.007671</td>\n",
              "    </tr>\n",
              "    <tr>\n",
              "      <th>std</th>\n",
              "      <td>1.485832e+05</td>\n",
              "      <td>1.106532</td>\n",
              "      <td>1.191612</td>\n",
              "      <td>0.081905</td>\n",
              "      <td>0.088552</td>\n",
              "      <td>NaN</td>\n",
              "      <td>344.497362</td>\n",
              "    </tr>\n",
              "    <tr>\n",
              "      <th>min</th>\n",
              "      <td>1.130615e+07</td>\n",
              "      <td>0.000000</td>\n",
              "      <td>0.000000</td>\n",
              "      <td>53.221348</td>\n",
              "      <td>-6.496987</td>\n",
              "      <td>NaN</td>\n",
              "      <td>33.500000</td>\n",
              "    </tr>\n",
              "    <tr>\n",
              "      <th>25%</th>\n",
              "      <td>1.228617e+07</td>\n",
              "      <td>1.000000</td>\n",
              "      <td>2.000000</td>\n",
              "      <td>53.297373</td>\n",
              "      <td>-6.296404</td>\n",
              "      <td>NaN</td>\n",
              "      <td>72.375000</td>\n",
              "    </tr>\n",
              "    <tr>\n",
              "      <th>50%</th>\n",
              "      <td>1.237964e+07</td>\n",
              "      <td>2.000000</td>\n",
              "      <td>3.000000</td>\n",
              "      <td>53.339547</td>\n",
              "      <td>-6.243572</td>\n",
              "      <td>NaN</td>\n",
              "      <td>98.000000</td>\n",
              "    </tr>\n",
              "    <tr>\n",
              "      <th>75%</th>\n",
              "      <td>1.240544e+07</td>\n",
              "      <td>3.000000</td>\n",
              "      <td>4.000000</td>\n",
              "      <td>53.381650</td>\n",
              "      <td>-6.185055</td>\n",
              "      <td>NaN</td>\n",
              "      <td>138.935000</td>\n",
              "    </tr>\n",
              "    <tr>\n",
              "      <th>max</th>\n",
              "      <td>1.242809e+07</td>\n",
              "      <td>8.000000</td>\n",
              "      <td>7.000000</td>\n",
              "      <td>53.619775</td>\n",
              "      <td>-6.064874</td>\n",
              "      <td>NaN</td>\n",
              "      <td>5746.536120</td>\n",
              "    </tr>\n",
              "  </tbody>\n",
              "</table>\n",
              "</div>"
            ],
            "text/plain": [
              "              ad_id   bathrooms  ...  no_of_units      surface\n",
              "count  5.000000e+02  500.000000  ...          0.0   500.000000\n",
              "mean   1.231695e+07    1.994000  ...          NaN   156.007671\n",
              "std    1.485832e+05    1.106532  ...          NaN   344.497362\n",
              "min    1.130615e+07    0.000000  ...          NaN    33.500000\n",
              "25%    1.228617e+07    1.000000  ...          NaN    72.375000\n",
              "50%    1.237964e+07    2.000000  ...          NaN    98.000000\n",
              "75%    1.240544e+07    3.000000  ...          NaN   138.935000\n",
              "max    1.242809e+07    8.000000  ...          NaN  5746.536120\n",
              "\n",
              "[8 rows x 7 columns]"
            ]
          },
          "metadata": {},
          "execution_count": 395
        }
      ]
    },
    {
      "cell_type": "markdown",
      "metadata": {
        "id": "UjMH1CSEUA1A"
      },
      "source": [
        "### Expected Cost dataset"
      ]
    },
    {
      "cell_type": "code",
      "metadata": {
        "id": "7p63sCZeUNx3",
        "colab": {
          "base_uri": "https://localhost:8080/",
          "height": 297
        },
        "outputId": "d22463eb-7266-42b1-f75e-a91d32f96794"
      },
      "source": [
        "# Generate descriptive statistics\n",
        "dfcost = pd.read_csv(cost_file)\n",
        "dfcost.describe()"
      ],
      "execution_count": 396,
      "outputs": [
        {
          "output_type": "execute_result",
          "data": {
            "text/html": [
              "<div>\n",
              "<style scoped>\n",
              "    .dataframe tbody tr th:only-of-type {\n",
              "        vertical-align: middle;\n",
              "    }\n",
              "\n",
              "    .dataframe tbody tr th {\n",
              "        vertical-align: top;\n",
              "    }\n",
              "\n",
              "    .dataframe thead th {\n",
              "        text-align: right;\n",
              "    }\n",
              "</style>\n",
              "<table border=\"1\" class=\"dataframe\">\n",
              "  <thead>\n",
              "    <tr style=\"text-align: right;\">\n",
              "      <th></th>\n",
              "      <th>Id</th>\n",
              "      <th>Expected</th>\n",
              "    </tr>\n",
              "  </thead>\n",
              "  <tbody>\n",
              "    <tr>\n",
              "      <th>count</th>\n",
              "      <td>5.000000e+02</td>\n",
              "      <td>5.000000e+02</td>\n",
              "    </tr>\n",
              "    <tr>\n",
              "      <th>mean</th>\n",
              "      <td>1.231695e+07</td>\n",
              "      <td>5.810356e+05</td>\n",
              "    </tr>\n",
              "    <tr>\n",
              "      <th>std</th>\n",
              "      <td>1.485832e+05</td>\n",
              "      <td>6.009194e+05</td>\n",
              "    </tr>\n",
              "    <tr>\n",
              "      <th>min</th>\n",
              "      <td>1.130615e+07</td>\n",
              "      <td>8.500000e+04</td>\n",
              "    </tr>\n",
              "    <tr>\n",
              "      <th>25%</th>\n",
              "      <td>1.228617e+07</td>\n",
              "      <td>2.950000e+05</td>\n",
              "    </tr>\n",
              "    <tr>\n",
              "      <th>50%</th>\n",
              "      <td>1.237964e+07</td>\n",
              "      <td>4.250000e+05</td>\n",
              "    </tr>\n",
              "    <tr>\n",
              "      <th>75%</th>\n",
              "      <td>1.240544e+07</td>\n",
              "      <td>5.950000e+05</td>\n",
              "    </tr>\n",
              "    <tr>\n",
              "      <th>max</th>\n",
              "      <td>1.242809e+07</td>\n",
              "      <td>5.750000e+06</td>\n",
              "    </tr>\n",
              "  </tbody>\n",
              "</table>\n",
              "</div>"
            ],
            "text/plain": [
              "                 Id      Expected\n",
              "count  5.000000e+02  5.000000e+02\n",
              "mean   1.231695e+07  5.810356e+05\n",
              "std    1.485832e+05  6.009194e+05\n",
              "min    1.130615e+07  8.500000e+04\n",
              "25%    1.228617e+07  2.950000e+05\n",
              "50%    1.237964e+07  4.250000e+05\n",
              "75%    1.240544e+07  5.950000e+05\n",
              "max    1.242809e+07  5.750000e+06"
            ]
          },
          "metadata": {},
          "execution_count": 396
        }
      ]
    },
    {
      "cell_type": "markdown",
      "metadata": {
        "id": "8Mi6y4XGs5np"
      },
      "source": [
        "### **Explorative Data Analysis**"
      ]
    },
    {
      "cell_type": "markdown",
      "metadata": {
        "id": "_LmQYUg7mX4S"
      },
      "source": [
        "**All the missing values**"
      ]
    },
    {
      "cell_type": "code",
      "metadata": {
        "colab": {
          "base_uri": "https://localhost:8080/"
        },
        "id": "NOBDWIx0k9hm",
        "outputId": "c2f0088f-c3b8-4adb-ea1d-06bfba934741"
      },
      "source": [
        "dftrain.isna().sum()"
      ],
      "execution_count": 397,
      "outputs": [
        {
          "output_type": "execute_result",
          "data": {
            "text/plain": [
              "ad_id                    0\n",
              "area                     0\n",
              "bathrooms               51\n",
              "beds                    51\n",
              "ber_classification     677\n",
              "county                   0\n",
              "description_block        0\n",
              "environment              0\n",
              "facility              2017\n",
              "features                 0\n",
              "latitude                 0\n",
              "longitude                0\n",
              "no_of_units           2923\n",
              "price                   90\n",
              "property_category        0\n",
              "property_type           51\n",
              "surface                551\n",
              "dtype: int64"
            ]
          },
          "metadata": {},
          "execution_count": 397
        }
      ]
    },
    {
      "cell_type": "markdown",
      "metadata": {
        "id": "pELcmcbswrny"
      },
      "source": [
        "A quick look at the correlation matrix"
      ]
    },
    {
      "cell_type": "code",
      "metadata": {
        "colab": {
          "base_uri": "https://localhost:8080/",
          "height": 542
        },
        "id": "NsqqC6rwvdZW",
        "outputId": "64eb305b-2b3d-45c5-d56b-1a7ffeb13d13"
      },
      "source": [
        "#correlation matrix\n",
        "fig, ax = plt.subplots(figsize=(11, 9))\n",
        "sns.heatmap(dftrain.corr(), annot=True);"
      ],
      "execution_count": 398,
      "outputs": [
        {
          "output_type": "display_data",
          "data": {
            "image/png": "[encoded data removed]",
            "text/plain": [
              "<Figure size 792x648 with 2 Axes>"
            ]
          },
          "metadata": {
            "needs_background": "light"
          }
        }
      ]
    },
    {
      "cell_type": "markdown",
      "metadata": {
        "id": "oeBW1lYbtnNY"
      },
      "source": [
        "\n",
        "The correlation matrix suggests a positive correlation between `price` and `beds`, `bathrooms` and `surface`, which we further explore with some pair plots.\n",
        "\n",
        "We can also see that `no_of_units`, `latitude` and `ad_id` have no correlation to the price. We shall remove the columns later\n"
      ]
    },
    {
      "cell_type": "code",
      "metadata": {
        "colab": {
          "base_uri": "https://localhost:8080/",
          "height": 726
        },
        "id": "_wyR1YjWxDr_",
        "outputId": "94429f0b-f3e9-4891-8d5b-92d83680b760"
      },
      "source": [
        "# note that by applying the method dropna() we drop all rows with missing values \n",
        "sns.pairplot(data=dftrain[['price','bathrooms','beds','surface']].dropna())\n",
        "plt.show()"
      ],
      "execution_count": 399,
      "outputs": [
        {
          "output_type": "display_data",
          "data": {
            "image/png": "[encoded data removed]",
            "text/plain": [
              "<Figure size 720x720 with 20 Axes>"
            ]
          },
          "metadata": {
            "needs_background": "light"
          }
        }
      ]
    },
    {
      "cell_type": "code",
      "metadata": {
        "id": "TxhAwRNvuoOm"
      },
      "source": [
        ""
      ],
      "execution_count": 399,
      "outputs": []
    },
    {
      "cell_type": "markdown",
      "metadata": {
        "id": "2_pE9x-xy6Tq"
      },
      "source": [
        "**Quick examination of categorical attributes**"
      ]
    },
    {
      "cell_type": "code",
      "metadata": {
        "colab": {
          "base_uri": "https://localhost:8080/"
        },
        "id": "nNJ1DqWwy5bO",
        "outputId": "7b446a9e-1853-4772-8241-fd59f73fdb53"
      },
      "source": [
        "# area\n",
        "dftrain['area'].value_counts()"
      ],
      "execution_count": 400,
      "outputs": [
        {
          "output_type": "execute_result",
          "data": {
            "text/plain": [
              "Finglas           94\n",
              "Castleknock       90\n",
              "Rathfarnham       87\n",
              "Malahide          81\n",
              "Lucan             79\n",
              "                  ..\n",
              "Edenmore           1\n",
              "Deansgrange        1\n",
              "Bayside            1\n",
              "Kiltipper          1\n",
              "Ballinascorney     1\n",
              "Name: area, Length: 156, dtype: int64"
            ]
          },
          "metadata": {},
          "execution_count": 400
        }
      ]
    },
    {
      "cell_type": "markdown",
      "metadata": {
        "id": "zc0w3oh1vqZ6"
      },
      "source": [
        "Empirically, one should expect that the area has a positive correlation to the price of a house. We shall encode these values"
      ]
    },
    {
      "cell_type": "code",
      "metadata": {
        "colab": {
          "base_uri": "https://localhost:8080/"
        },
        "id": "Y4-xbb_Swskq",
        "outputId": "dbe60745-187b-42ea-a4eb-46778b815c95"
      },
      "source": [
        "areas = dftrain['area'].unique()\n",
        "areas"
      ],
      "execution_count": 401,
      "outputs": [
        {
          "output_type": "execute_result",
          "data": {
            "text/plain": [
              "array(['Portmarnock', 'Lucan', 'Rathfarnham', 'Balbriggan', 'Foxrock',\n",
              "       'Blackrock', 'Templeogue', 'Ballyboughal', 'Ballycullen',\n",
              "       'Cabinteely', 'Glasnevin', 'Skerries', 'Clongriffin', 'Clonee',\n",
              "       'Killiney', 'Newcastle', 'Donabate', 'Dublin 2', 'Lusk',\n",
              "       'Clondalkin', 'Rathgar', 'Glenageary', 'Goatstown',\n",
              "       'Dun Laoghaire', 'Howth', 'Castleknock', 'Citywest', 'Malahide',\n",
              "       'Swords', 'Rush', 'Shankill', 'Stepaside', 'Donaghmede',\n",
              "       'Dublin 4', 'Baldoyle', 'Ranelagh', 'Carrickmines', 'Rathmichael',\n",
              "       'Loughshinny', 'Finglas', 'Dublin 1', 'Ballsbridge', 'Sandycove',\n",
              "       'Dalkey', 'Dublin 8', 'Booterstown', 'Ballymun', 'Navan Road (D7)',\n",
              "       'Cabra', 'Garristown', 'Rialto', 'Drumcondra', 'Clontarf',\n",
              "       'Dundrum', 'Donnybrook', 'Santry', 'Blanchardstown', 'Sandyford',\n",
              "       'Palmerstown', 'Sandymount', 'Terenure', 'Crumlin', 'Saggart',\n",
              "       'Mulhuddart', 'Whitehall', 'Walkinstown', 'Christchurch',\n",
              "       'Clonskeagh', 'Phibsborough', 'Clonsilla', 'Ringsend',\n",
              "       'Churchtown', 'Dublin 7', 'Tyrrelstown', 'Ballybrack',\n",
              "       'Mount Merrion', 'Rathmines', 'The Ward', 'Kilternan', 'Sutton',\n",
              "       \"Harold's Cross\", 'Clarehall', 'Firhouse', 'Portobello',\n",
              "       'Killester', 'Monkstown', 'Kilmore', 'Milltown', 'Tallaght',\n",
              "       'Ballymount', 'Loughlinstown', 'Clonshaugh', 'East Wall',\n",
              "       'Grand Canal Dock', 'Leopardstown', 'Artane', 'Kinsealy',\n",
              "       'Poppintree', 'Kimmage', 'Knocklyon', \"Dolphin's Barn\", 'Raheny',\n",
              "       'Naul', 'Inchicore', 'Adamstown', 'IFSC', 'Kilmainham', 'Darndale',\n",
              "       'Kilnamanagh', 'Rathcoole', 'Fairview', 'Ard Na Greine',\n",
              "       'North Circular Road', 'Beaumont', 'Temple Bar', 'Drimnagh',\n",
              "       'Coolock', 'Donnycarney', 'Stoneybatter', 'Ballyfermot',\n",
              "       'Balgriffin', 'North Strand', 'Smithfield', 'Ballinascorney',\n",
              "       'Coolmine', 'Sallynoggin', 'Ongar', 'Marino', 'Dartry',\n",
              "       'Ballinteer', 'Hartstown', 'Ashtown', 'Kilmacud', 'Carpenterstown',\n",
              "       'Park West', 'Irishtown', 'Chapelizod', 'Balrothery', 'Ballybough',\n",
              "       'Greenhills', 'Perrystown', 'Brittas', 'Bluebell', 'Kingswood',\n",
              "       'The Coombe', 'Edenmore', 'Merrion', 'Oldbawn', 'Deansgrange',\n",
              "       'Bayside', 'Windy Arbour', 'Cherry Orchard', 'Islandbridge',\n",
              "       'South Circular Road', 'Kiltipper', \"St Margaret's\"], dtype=object)"
            ]
          },
          "metadata": {},
          "execution_count": 401
        }
      ]
    },
    {
      "cell_type": "code",
      "metadata": {
        "id": "0xTf8Cg5xejj"
      },
      "source": [
        "area_mapper = {\n",
        "    \"Portmarnock\": 1, \n",
        "\"Lucan\": 2, \n",
        "\"Rathfarnham\": 3, \n",
        "\"Balbriggan\": 4, \n",
        "\"Foxrock\": 5,\n",
        "       \"Blackrock\": 6, \n",
        "       \"Templeogue\": 7, \n",
        "       \"Ballyboughal\": 8, \n",
        "       \"Ballycullen\": 9,\n",
        "       \"Cabinteely\": 10, \n",
        "       \"Glasnevin\": 11, \n",
        "       \"Skerries\": 12, \n",
        "       \"Clongriffin\": 13, \n",
        "       \"Clonee\": 14,\n",
        "       \"Killiney\": 15, \n",
        "       \"Newcastle\": 16, \n",
        "       \"Donabate\": 17, \n",
        "       \"Dublin 2\": 18, \n",
        "       \"Lusk\": 19,\n",
        "       \"Clondalkin\": 20, \n",
        "       \"Rathgar\": 21, \n",
        "       \"Glenageary\": 22, \n",
        "       \"Goatstown\": 23,\n",
        "       \"Dun Laoghaire\": 24, \n",
        "       \"Howth\": 25, \n",
        "       \"Castleknock\": 26, \n",
        "       \"Citywest\": 27, \n",
        "       \"Malahide\": 28,\n",
        "       \"Swords\": 29, \n",
        "       \"Rush\": 30, \n",
        "       \"Shankill\": 31, \n",
        "       \"Stepaside\": 32, \n",
        "       \"Donaghmede\": 33,\n",
        "       \"Dublin 4\": 34, \n",
        "       \"Baldoyle\": 35, \n",
        "       \"Ranelagh\": 36, \n",
        "       \"Carrickmines\": 37, \n",
        "       \"Rathmichael\": 38,\n",
        "       \"Loughshinny\": 39, \n",
        "       \"Finglas\": 40, \n",
        "       \"Dublin 1\": 41, \n",
        "       \"Ballsbridge\": 42, \n",
        "       \"Sandycove\": 43,\n",
        "       \"Dalkey\": 44, \n",
        "       \"Dublin 8\": 45, \n",
        "       \"Booterstown\": 46, \n",
        "       \"Ballymun\": 47, \n",
        "       \"Navan Road (D7)\": 48,\n",
        "       \"Cabra\": 49, \n",
        "       \"Garristown\": 50, \n",
        "       \"Rialto\": 51, \n",
        "       \"Drumcondra\": 52, \n",
        "       \"Clontarf\": 53,\n",
        "       \"Dundrum\": 54, \n",
        "       \"Donnybrook\": 55, \n",
        "       \"Santry\": 56, \n",
        "       \"Blanchardstown\": 57, \n",
        "       \"Sandyford\": 58,\n",
        "       \"Palmerstown\": 59, \n",
        "       \"Sandymount\": 60, \n",
        "       \"Terenure\": 61, \n",
        "       \"Crumlin\": 62, \n",
        "       \"Saggart\": 63,\n",
        "       \"Mulhuddart\": 64, \n",
        "       \"Whitehall\": 65, \n",
        "       \"Walkinstown\": 66, \n",
        "       \"Christchurch\": 67,\n",
        "       \"Clonskeagh\": 68, \n",
        "       \"Phibsborough\": 69, \n",
        "       \"Clonsilla\": 70, \n",
        "       \"Ringsend\": 71,\n",
        "       \"Churchtown\": 72, \n",
        "       \"Dublin 7\": 73, \n",
        "       \"Tyrrelstown\": 74, \n",
        "       \"Ballybrack\": 75,\n",
        "       \"Mount Merrion\": 76, \n",
        "       \"Rathmines\": 77, \n",
        "       \"The Ward\": 78, \n",
        "       \"Kilternan\": 79, \n",
        "       \"Sutton\": 80,\n",
        "       \"Harold's Cross\": 81, \n",
        "       \"Clarehall\": 82, \n",
        "       \"Firhouse\": 83, \n",
        "       \"Portobello\": 84,\n",
        "       \"Killester\": 85, \n",
        "       \"Monkstown\": 86, \n",
        "       \"Kilmore\": 87, \n",
        "       \"Milltown\": 88, \n",
        "       \"Tallaght\": 89,\n",
        "       \"Ballymount\": 90, \n",
        "       \"Loughlinstown\": 91, \n",
        "       \"Clonshaugh\": 92, \n",
        "       \"East Wall\": 93,\n",
        "       \"Grand Canal Dock\": 94, \n",
        "       \"Leopardstown\": 95, \n",
        "       \"Artane\": 96, \n",
        "       \"Kinsealy\": 97,\n",
        "       \"Poppintree\": 98, \n",
        "       \"Kimmage\": 99, \n",
        "       \"Knocklyon\": 100, \n",
        "       \"Dolphin's Barn\": 101, \n",
        "       \"Raheny\": 102,\n",
        "       \"Naul\": 103, \n",
        "       \"Inchicore\": 104, \n",
        "       \"Adamstown\": 105, \n",
        "       \"IFSC\": 106, \n",
        "       \"Kilmainham\": 107, \n",
        "       \"Darndale\": 108,\n",
        "       \"Kilnamanagh\": 109, \n",
        "       \"Rathcoole\": 110, \n",
        "       \"Fairview\": 111, \n",
        "       \"Ard Na Greine\": 112,\n",
        "       \"North Circular Road\": 113, \n",
        "       \"Beaumont\": 114, \n",
        "       \"Temple Bar\": 115, \n",
        "       \"Drimnagh\": 116,\n",
        "       \"Coolock\": 117, \n",
        "       \"Donnycarney\": 118, \n",
        "       \"Stoneybatter\": 119, \n",
        "       \"Ballyfermot\": 120,\n",
        "       \"Balgriffin\": 121, \n",
        "       \"North Strand\": 122, \n",
        "       \"Smithfield\": 123, \n",
        "       \"Ballinascorney\": 124,\n",
        "       \"Coolmine\": 125, \n",
        "       \"Sallynoggin\": 126, \n",
        "       \"Ongar\": 127, \n",
        "       \"Marino\": 128, \n",
        "       \"Dartry\": 129,\n",
        "       \"Ballinteer\": 130, \n",
        "       \"Hartstown\": 131, \n",
        "       \"Ashtown\": 132, \n",
        "       \"Kilmacud\": 133, \n",
        "       \"Carpenterstown\": 134,\n",
        "       \"Park West\": 135, \n",
        "       \"Irishtown\": 136, \n",
        "       \"Chapelizod\": 137, \n",
        "       \"Balrothery\": 138, \n",
        "       \"Ballybough\": 139,\n",
        "       \"Greenhills\": 140, \n",
        "       \"Perrystown\": 141, \n",
        "       \"Brittas\": 142, \n",
        "       \"Bluebell\": 143, \n",
        "       \"Kingswood\": 144,\n",
        "       \"The Coombe\": 145, \n",
        "       \"Edenmore\": 146, \n",
        "       \"Merrion\": 147, \n",
        "       \"Oldbawn\": 148, \n",
        "       \"Deansgrange\": 149,\n",
        "       \"Bayside\": 150, \n",
        "       \"Windy Arbour\": 151, \n",
        "       \"Cherry Orchard\": 152, \n",
        "       \"Islandbridge\": 153,\n",
        "       \"South Circular Road\": 154, \n",
        "       \"Kiltipper\": 155, \n",
        "       \"St Margaret's\": 156\n",
        "}"
      ],
      "execution_count": 402,
      "outputs": []
    },
    {
      "cell_type": "code",
      "metadata": {
        "colab": {
          "base_uri": "https://localhost:8080/"
        },
        "id": "pXRYTuu2zncb",
        "outputId": "1a9947c7-ee55-4c71-a314-e788fb2feee0"
      },
      "source": [
        "# ber_classification\n",
        "dftrain['ber_classification'].value_counts()"
      ],
      "execution_count": 403,
      "outputs": [
        {
          "output_type": "execute_result",
          "data": {
            "text/plain": [
              "D1                     283\n",
              "D2                     274\n",
              "C3                     268\n",
              "C2                     242\n",
              "C1                     212\n",
              "E1                     182\n",
              "E2                     169\n",
              "G                      166\n",
              "F                      165\n",
              "B3                     130\n",
              "B2                      74\n",
              "A3                      70\n",
              "SINo666of2006exempt     28\n",
              "A2                      25\n",
              "B1                      16\n",
              "A1                       1\n",
              "Name: ber_classification, dtype: int64"
            ]
          },
          "metadata": {},
          "execution_count": 403
        }
      ]
    },
    {
      "cell_type": "markdown",
      "metadata": {
        "id": "k1NtU71p6scz"
      },
      "source": [
        "Also empirically, one would expect the Ernergy Rating to affect the price of a property. We shall also encode this field"
      ]
    },
    {
      "cell_type": "code",
      "metadata": {
        "colab": {
          "base_uri": "https://localhost:8080/"
        },
        "id": "9uGsuJ7JxdX1",
        "outputId": "24beb61f-fdd9-4941-a417-c73cf06d3389"
      },
      "source": [
        "ber_ratings = dftrain['ber_classification'].unique()\n",
        "ber_ratings\n"
      ],
      "execution_count": 404,
      "outputs": [
        {
          "output_type": "execute_result",
          "data": {
            "text/plain": [
              "array([nan, 'A3', 'A2', 'E2', 'G', 'C1', 'F', 'C2', 'C3', 'D2', 'D1',\n",
              "       'B2', 'E1', 'SINo666of2006exempt', 'B3', 'B1', 'A1'], dtype=object)"
            ]
          },
          "metadata": {},
          "execution_count": 404
        }
      ]
    },
    {
      "cell_type": "code",
      "metadata": {
        "id": "2xt48GDF7WvZ"
      },
      "source": [
        "ber_mapper = {\n",
        "    \"A1\": 1,\n",
        "    \"A2\": 2,\n",
        "    \"A3\": 3,\n",
        "    \"B1\": 4,\n",
        "    \"B2\": 5,\n",
        "    \"B3\": 6,\n",
        "    \"C1\": 7,\n",
        "    \"C2\": 8,\n",
        "    \"C3\": 9,\n",
        "    \"D1\": 10,\n",
        "    \"D2\": 11,\n",
        "    \"E1\": 12,\n",
        "    \"E2\": 13,\n",
        "    \"F\": 14,\n",
        "    \"G\": 15,\n",
        "    \"SINo666of2006exempt\": 16\n",
        "}"
      ],
      "execution_count": 405,
      "outputs": []
    },
    {
      "cell_type": "code",
      "metadata": {
        "colab": {
          "base_uri": "https://localhost:8080/"
        },
        "id": "Zn3tvNSH2dcE",
        "outputId": "a0b22a13-ca32-4355-dd98-cb99c375e23c"
      },
      "source": [
        "# county\n",
        "dftrain['county'].value_counts()"
      ],
      "execution_count": 406,
      "outputs": [
        {
          "output_type": "execute_result",
          "data": {
            "text/plain": [
              "Dublin    2982\n",
              "Name: county, dtype: int64"
            ]
          },
          "metadata": {},
          "execution_count": 406
        }
      ]
    },
    {
      "cell_type": "markdown",
      "metadata": {
        "id": "R79XcaNk9Mqs"
      },
      "source": [
        "All values are present and they are all dublin. The `county` attribute is not adding any information and can be assumed and dropped"
      ]
    },
    {
      "cell_type": "code",
      "metadata": {
        "colab": {
          "base_uri": "https://localhost:8080/"
        },
        "id": "0Jgqh-J_2doy",
        "outputId": "0334edb6-2b45-4508-fdc2-9ce6c1dfa69d"
      },
      "source": [
        "# description_block\n",
        "dftrain['description_block'].value_counts()"
      ],
      "execution_count": 407,
      "outputs": [
        {
          "output_type": "execute_result",
          "data": {
            "text/plain": [
              "Sycamore Grove is a small development of 14 houses on Grove Road, in one of the most popular residential locations in Dublin. The houses are large ranging in size from 130 sq.m - 135 sq.m (1,399 sq.ft - 1,453 sq.ft).\\n\\r\\nThese distinctively designed houses feature tasteful brick facades and generous rear gardens. Built by Treverbyn Properties Ltd, each home is finished to the very highest standard with an excellent specification inside and out.\\n\\r\\nGlasnevin has a long and interesting history. Saint Mobhi established a monastery there in the sixth century. The National Botanical Gardens, with its beautiful curvilinear glasshouses, was laid out by botanist Dr. Walter Wade in 1795.\\n\\r\\nGlasnevin is the last resting place of many famous patriots and poets such as Daniel O' Connell Charles Stewart Parnell, Eamon de Valera and Luke Kelly. The stone walls and turrets of the cemetery dominate the pretty squares around the old entrance. \\n\\r\\nLandmarks and institutions include Dublin City University (DCU), the 7.5 acre Griffith Park and the pyramid shaped Met Eireann office.\\n\\r\\nThere are excellent transport links, primary and secondary schools, the University, shops, hotels, restaurants, cafes, sports clubs, leisure facilities, and parks. There is a bus stop located within minutes of the property whilst the M50 is only a 5 minute drive from the site location.\\n\\r\\n- Dublin Airport is only a 15 minute drive away.\\r\\n- Bus Stop within close proximity of the site.\\r\\n- Airport - 15 minute drive via the old airport road.\\r\\n- M50 - 5 minute drive.                                                                                                                                                                                                                                                                                                                                                                                                                                                                                                                                                                                                                                                                                                                                                                                                                                                                                                                                                                                                                                                                                                                                                                                                                                                                                                                                                                                                                                                                                                                                                                                                                                                                                                                                                                                                                                                                                                                                                                                                                                                                                                                                                                   2\n",
              "O'Connor Estate Agents are honoured to present No.19 Fairways Park to the market, a traditional red brick 4 bedroom semi detached residence which is presented in walk in condition with the added benefit of a west facing rear garden. This substantial property is sure to appeal to prospective families in search of a modern home strategically located in a mature well cared for residential estate.\\n\\r\\nUpon entering the estate you are greeted with tastefully designed pillars offering both pedestrian &amp; vehicular access off Griffith Road which is adjacent the renowned 12.75 hectare Johnstown Park. Prospective buyers will be instantly impressed as the property overlooks a large open space from the front which is finished with a cobble lock driveway complimented with a grass verge.\\n\\r\\nThe downstairs of the property briefly comprises a large living area with French double doors that access a separate dining &amp; kitchen area flooded with natural light that boasts sleek high gloss cream kitchen units with breakfast bar. The downstairs accommodation is completed with a downstairs WC and utility room off the hallway. The upstairs of the property briefly comprises the master bedroom with ensuite, 2 x double bedrooms, 1 x single bedroom and bathroom. This residence also presents a maintenance free paved back garden that boasts a large purpose built shed.\\n\\r\\nAccommodation:\\r\\nLiving Area: c.5.62m x c.3.62m with solid oak wooden floors, large bay window, marble fireplace with granite finish. This room also has coving throughout and cornice centrepiece.\\n\\r\\nKitchen Area: c.5.00m x c.2.63m with floor tiling, high gloss cream kitchen units with breakfast bar and an abundance of natural light.\\n\\r\\nDining Area: c.3.78m x c.2.79m with solid oak wooden floors and access to Living Area via French double doors.\\n\\r\\nUtility: c.1.13m x c.96m with window provided.\\n\\r\\nDownstairs WC: c.1.81m x c.75m with fully tiled floors &amp; walls, wc and whb.\\n\\r\\nBack Garden: West Facing tastefully paved with large purpose built shed.\\n\\r\\nMaster Bedroom: c. 4.10m x c.3.24m with laminate floors, full length built in wardrobes and bay window.\\n\\r\\nEnsuite: c.1.65m x c.1.53m with floor &amp; wall tiling, heated towel rail, electric shower, whb and wc. A velux window is also provided.\\n\\r\\nBedroom 2: c.3.24m x c.2.23m with laminate floor and wardrobe.\\n\\r\\nBedroom 3: c.3.53m x c.2.78m with laminate floor and wardrobe. .\\n\\r\\nBedroom 4: c.2.73m x c.2.51m with laminate floor and wardrobe..\\n\\r\\nBathroom: c.2.24m x c.1.65m with large shower, heated towel rail, whb, wc and feature timber ceiling.\\n\\r\\n**TRANSPORT** This property has the convenience of the M50 &amp; M1 within close proximity which opens up the convenience of the entire county &amp; country. There are numerous bus routes located nearby most notably on Griffith Road with excellent transport links to Dublin City Centre. Dublin Airport is also within close proximity.\\n\\r\\n**AMENITIES** Johnstown Park a renowned 12.75 hectare park is literally on the doorstep of this property which boasts mature planting and tree lined walks to include tennis courts, playing pitches for soccer &amp; GAA and a playground to mention a few. There is a wide array of shops, bars &amp; restaurants which are all within striking distance located in Glasnevin &amp; Finglas. The Mater, Rotunda, Temple Street and The Bons Secours Hospital are located within close proximity and there are educational facilities in abundance such as St. Kevins not to mention DCU which is located nearby. \\n\\r\\nViewing of this property is a must.\\n\\r\\nPLANS PROVIDED ARE FOR ILLUSTRATION PURPOSES ONLY    2\n",
              "Location\\r\\nThe property is situated at the northern end of Heronford Lane just off Ballycorus Road. The wood and grasslands to the north, and offset to the west will make up Ticknick park as part of the Cherrywood Development, due for completion in 2021. In terms of access and transportation, the site benefits from excellent communication links, including; Cherrywood Luas Stop, approx.1.4km east of the property, The M50 Motorway approx. 500m east, together with Shankill DART Station some 3.5km (approx. 10 minute drive) to the east. A range of amenities are provided in nearby Carrickmines, Shankill, Sandyford, and Cherrywood.\\n\\r\\nDescription\\r\\nThe main property comprises a detached five bedroom house in need of complete renovation. The property extends to approximately 236.11 sq. m (2,541 sq. ft), and is currently arranged to provide open plan living accommodation and three bedrooms to first floor, with two large bedsitting type rooms to the ground floor. There are to further structures to the rear of the site. The site and house are elevated, and benefits from clear sea views to the east. The entire site extends to approximately 0.45 hectares (1.1 acres).\\n\\r\\nZoning\\r\\nUnder the Dun Laoghaire-Rathdown County Development Plan 2016 €                                                                                                                                                                                                                                                                                                                                                                                                                                                                                                                                                                                                                                                                                                                                                                                                                                                                                                                                                                                                                                                                                                                                                                                                                                                                                                                                                                                                                                                                                                                                                                                                                                                                                                                                                                                                                                                                                                                                                                                                                                                                                                                                                                                                                                                                                                                                                                                                                                                                                          2\n",
              "LEONARD WILSON KEENAN ESTATE &amp; LETTING AGENTS \\r\\nOur business is you ....\\n\\r\\nEXTRA SPACIOUS EXTENDED 3 BED / 1 BATH SEMI DETACHED BUNGALOW ON LARGE SITE \\r\\nSOUTH WEST FACING BACK GARDEN \\r\\nEXCELLENT FURTHER POTENTIAL TO EXTEND / RUN A BUSINESS FROM HOME \\n\\r\\nEARLY VIEWING STRONGLY ADVISED\\n\\r\\nA most unique property ....\\n\\r\\nMulti Award Winning Team Patrick Leonard The Fingal Property Specialists are truly delighted to present this lovely home to the Dublin property market. The extended floor plan offers bright spacious proportions and will appeal to first time buyers, families and parties trading up / down alike. The accommodation consists of: Entrance hall, living room, kitchen / dining room, 3 bedrooms to include master, rear lobby, family bathroom and sunroom. \\n\\r\\nThe many features of this lovely home include: Feature fireplace in living room, modern fitted kitchen offering an abundance of base and eye level storage to include all integrated appliances, quality flooring throughout and quality tiling &amp; white sanitary ware in the main bathroom. The property further boasts double glazed windows and oil fired central heating system. \\n\\r\\nThe property is adjacent to a host of local amenities to include Finglas Village, excellent catchment for both primary and secondary schools, The Charlestown Shopping Centre to include the new state of the art Odeon Cinema and IKEA are all quite literally on your doorstep. DCU is also within close proximity. The M50 is within close reach making this a most strategically positioned home. Ashbourne is within a 10 minute drive.\\n\\r\\nEarly viewing is strongly advised. \\n\\r\\n***All information provided is to the best of our knowledge. The utmost of care and attention has been placed on providing factual and correct information. In certain cases some information may have been provided by the vendor to us. We do not hold any responsibility for mistakes, errors or inaccuracies in our online advertising and give each and every viewer the right to get an opinion on any concern they may have***                                                                                                                                                                                                                                                                                                                                                                                                                                                                                                                                                                                                                                                                                                                                                                                                                                                                                                                                                                                                                                                                                                                                                                                                                                                                                                                                                                                                                                                                                                                                                                                                                                           2\n",
              "iMOVE are delighted to present 24 Temple Court to the Dublin 9 market. The ground floor apartment comes to market recently refurbished and would suit both investors and owner occupiers alike. \\n\\r\\nThe accommodation comprises of an entrance hallway, two double bedrooms (master en-suite) and a large living/diningroom with access to a patio area. \\n\\r\\nNorthwood is located among a picturesque setting that features a large park and lakes. The location offer easy access to the M1 and M50 Motorways and Dublin Airport is just minutes away. The area is well serviced by public transport.                                                                                                                                                                                                                                                                                                                                                                                                                                                                                                                                                                                                                                                                                                                                                                                                                                                                                                                                                                                                                                                                                                                                                                                                                                                                                                                                                                                                                                                                                                                                                                                                                                                                                                                                                                                                                                                                                                                                                                                                                                                                                                                                                                                                                                                                                                                                                                                                                                                                                                                                                                                                                                                                                                                                                                                                                                                                                                                                                                                                                                                                                                                                                                                       1\n",
              "                                                                                                                                                                                                                                                                                                                                                                                                                                                                                                                                                                                                                                                                                                                                                                                                                                                                                                                                                                                                                                                                                                                                                                                                                                                                                                                                                                                                                                                                                                                                                                                                                                                                                                                                                                                                                                                                                                                                                                                                                                                                                                                                                                                                                                                                                                                                                                                                                                                                                                                                                                                                                                                                                                                                                                                                                                                                                                                                                                                                                                                                                                                                                                                                                                                                                                                                                                                                                                                                                                                                                                                                                                                                                                                                                                                                ..\n",
              "Book Viewings &amp; Make Offers 24/7 On Moovingo.com :)\\n\\r\\nMoovingo is delighted to present this superb family home to the market. Built in 2016, the property is in excellent condition throughout and boasts all the attractive features of a modern home including an air-to-water heat pump system, underfloor heating throughout the ground floor, and a heat recovery ventilation system in each room. Located in the much sought-after development of Belmont, this property will appeal to first-time buyers and families looking to upgrade to a larger home.\\n\\r\\nThe accommodation briefly comprises an entrance hallway, modern kitchen/dining room, bright living room with walnut floors and a W.C. Upstairs there are three bedrooms, master with ensuite, and a family bathroom. There is a stira staircase to the attic and there is potential to convert it. Due to the property's positioning within the development, it has the unique benefit of a garden which wraps around the rear and side of the house and offers great scope for extension (STPP). This property also has the additional benefit of two off-street parking spaces to the side of the house.\\n\\r\\nAREA INFO\\n\\r\\nThe nearby Stepaside &amp; Sandyford Villages have an array of locally-owned shops, restaurants and cafes and Belarmine Plaza is a few minutes walk away. Stepaside Educate Together National &amp; Secondary Schools and Gaelscoil Thaobh na Coille are a 5 minute walk in addition to a number of créches. Just a short stroll away, Fernhill Park and Gardens has recently been opened to the public providing great outdoor recreational space with further improvements planned by the council. There is also a children€TM playground just moments from the front door.\\n\\r\\nThe 47 bus route towards the city centre begins its route a short distance away while the Luas Green Line is a 10 minute walk away. The M50 can be accessed in minutes and Dundrum Town Centre is less than 7 minutes by car.\\n\\r\\nThe surrounding area also boasts a host of sporting and recreational amenities including Leopardstown Racecourse, Stepaside and Powerscourt Golf Clubs, Carrickmines Lawn Tennis Club and Westwood Health Club. The various trails of the Dublin and Wicklow mountains are also within easy reach.\\n\\r\\nDisclaimer: Any intending purchaser(s) shall accept that no statement, description or measurement contained in advertisement or any other document or published by the vendor or by Moovingo, in respect of the premises shall constitute a representation inducing the purchaser(s) to enter into any contract for sale, or any warranty forming part of any such contract for sale. Any such statement, description or measurement, whether in writing or in oral form, given by the vendor, or by Moovingo, are for illustration purposes only and are not to be taken as matters of fact. Any intending purchaser(s) shall satisfy themselves by inspection, survey or otherwise as to the correctness of same. No omission, misstatement, misdescription, incorrect measurement or error of any description, whether given orally or in any written form by the vendor or by Moovingo, shall give rise to any claim for compensation against the vendor or against Moovingo. Any intending purchaser(s) are deemed to fully satisfy themselves in relation to all such matters.                                                                                                                                                                                                                                                                                                                                                                  1\n",
              "***Photos to follow***\\nBuckley Real Estate are delighted to present this superb Family home to the Dublin market.Ideally located in the highly sought after area of Finglas. This property offers wonderful access to the greater Dublin area with the 50 and the city center only a short drive away. There is excellent public transport links with the 17A, 40d, 40E, 220, 220A Dublin bus routes on your doorstep. There is a selection of both primary and secondary schools in the immediate area including St Finians National School, St Brigid's National school and St Brigids senior school to name just a few. There is a wealth of amenities within striking distance including Cappagh shopping center, Finglas village center and Charlestown shopping center.This is sure to interest both first time buyers and investors alike\\n\\nThe property comprises of warm and welcoming entrance hallway, front facing living room, rear facing kitchen/Dining room with double patio doors leading to a rear yard. On the first floor you will find three substantial bedrooms and a family bathroom.\\n\\nThe property comprises of warm and welcoming entrance hallway, front facing living room, and rear facing kitchen/Dining room with double patio doors leading to a rear yard. On the first floor you will find three substantial bedrooms and a family bathroom. To the side of the property, there is a two storey building attached currently derelict but would be ideal to incorporate into the existing family home and make this a fine 4/5 bedroom family property.  The property is located on a large corner site.                                                                                                                                                                                                                                                                                                                                                                                                                                                                                                                                                                                                                                                                                                                                                                                                                                                                                                                                                                                                                                                                                                                                                                                                                                                                                                                                                                                                                                                                                                                                                                                                                                                                                                                                                                                                                                                                                                                                                                                                                                                                                                                                                   1\n",
              "Welcome to 128 Castle Farm.  Nestled in a desirable part of this ever-popular development, is a spacious 2 bedroom mid terrace home in a cul-de-sac location.  Upon entry, you are greeted by a welcoming living room with feature fireplace, wood burner stove and parquet floor.   The open plan kitchen is spacious and features a good range of cabinets along with integrated oven and hob.  There is a spacious understairs storage cupboard.\\n\\nThe main bedroom is a good size.  It hosts a great range of built-in wardrobes.  The second bedroom is situated to the front of the home and also features built-in wardrobes.  The tiled bathroom has a bath with overhead shower, toilet and wash hand basin.  \\n\\nThis is must see apartment and viewing is highly recommended.  \\n\\nThe convenience of the area cannot be over emphasised.  There is very easy access to the N11 and QBC.  Every conceivable amenity is on your doorstep. The beach and several popular walk paths are within five minutes walk. The area is well catered for with a good selection of both primary and post primary schools.  Local shops including the new Lidl and Costa Coffee, eateries, churches, sporting facilities, Shanganagh Park and transport including the Dart and 145 are minutes walk from the home.\\n\\nAccommodation:\\n\\nLiving Room\\n5.4m x 3.8m\\nBright living with wood burner stove and parquet floor, understairs storage cupboard.\\n\\nKitchen/dining\\n4.6m x 3.8m\\nSpacious with a good range of cupboards and storage solutions.  Integrated oven and hob.  Parquet floor.  Door to rear garden.\\n\\nBedroom 1\\n3.8m x 3.3m\\nLarge double bedroom with built-in wardrobes and wood floor.\\n\\nBathroom\\n2.5m x 1.7m\\nBath with overhead shower, toilet and whb.  Tiled walls and wood floor.\\n\\nBedroom 2\\n3.8m x 2.6m\\nDouble with built-in wardrobes. Wood floor.\\n\\nOutside\\n\\nThe rear garden is spacious and low maintenance.  The front garden provides off street parking.                                                                                                                                                                                                                                                                                                                                                                                                                                                                                                                                                                                                                                                                                                                                                                                                                                                                                                                                                                                                                                                                                                                                                                                                                                                                                                                                                                                                                                                                                                                                                                                                                                                                                                                                                                                              1\n",
              "Horan Estate &amp; Letting Agents are delighted to introduce No. 41 Barons Hall Park to the property market.\\r\\nThis fine two bedroom second floor apartment in the fast growing town of Balbriggan would suit first time buyers and investors alike!\\n\\r\\nSome of the features to include:\\r\\n-  Open plan kitchen / dining / living area.\\r\\n-  Balcony off the living area.\\r\\n-  Double glazed windows.\\r\\n-  Gas fired central heating.\\r\\n-  Designated parking space.\\r\\n-  Close to all amenities.\\n\\r\\nVery convenient location close to a number of local amenities:\\r\\n-  2 min walk to Castle Mill Shopping Centre.\\r\\n-  4 min walk to Balbriggan Educate Together National School, Scoil Chormaic Community National School and 11 min walk to St George's National School, Coláiste Ghlór na Mara.\\r\\n-  Bus route No.33 offering frequent service to the city centre as well as train services for a fast commute.\\r\\n-  Quick link to M1 motorway offering easy access to M50 and the rest of Dublin city.\\n\\r\\nViewing is highly recommended!                                                                                                                                                                                                                                                                                                                                                                                                                                                                                                                                                                                                                                                                                                                                                                                                                                                                                                                                                                                                                                                                                                                                                                                                                                                                                                                                                                                                                                                                                                                                                                                                                                                                                                                                                                                                                                                                                                                                                                                                                                                                                                                                                                                                                                                                                                                                                                                                                                                                                                                                                                                                                                                                                                                                  1\n",
              "P. Marry &amp; Associates presents to the market this one off one bedroom town centre apartment located within a two minute walk of all amenities including the beach, shops, schools, Church etc.\\r\\nThis well proportioned apartment boasts a spacious and bright open plan living space plus a double bedroom on the first floor.  On the ground floor is a tiled bathroom and access to the small yard at the rear. Oozing with appeal, this property must be viewed to be fully appreciated.\\n\\n\\n\\n\\r\\nEntrance hall:   Wood floor, access to rear yard, smoke alarm, understairs storage, feature high ceilings.\\n\\r\\nBathroom (ground floor):     W.C., W.H.B., Bath with electric shower and glass shower door over, tiled floor, part tiled walls, window.\\n\\r\\nOpen Plan Kitchen/Dining room: (20 11 X 13 9)\\r\\n(First Floor)\\r\\nKitchen area:  Wall &amp; floor mounted units, plumbed for washing machine, s.s. sink, recessed lights, wood floor.\\n\\r\\nLiving area:  T.V. point, wood floor, recessed lights.\\n\\r\\nBedroom 1: (8 10 X 10 4)      Built-in storage, wood floor, access to attic.\\n\\r\\nOutside:    Small yard to the rear with rear access.\\n\\r\\nSPECIAL FEATURES:\\r\\nTown centre location\\r\\nGas fired central heating\\r\\nDouble glazed throughout\\r\\nWood floors\\r\\nRecessed lights\\r\\nElectric shower                                                                                                                                                                                                                                                                                                                                                                                                                                                                                                                                                                                                                                                                                                                                                                                                                                                                                                                                                                                                                                                                                                                                                                                                                                                                                                                                                                                                                                                                                                                                                                                                                                                                                                                                                                                                                                                                                                                                                                                                                                                                                                                                                                                                                                                                                                                                                                                                                                                             1\n",
              "Name: description_block, Length: 2978, dtype: int64"
            ]
          },
          "metadata": {},
          "execution_count": 407
        }
      ]
    },
    {
      "cell_type": "markdown",
      "metadata": {
        "id": "yiaq3Y_Q9iyT"
      },
      "source": [
        "The `description_block` is free text, thus will not suit for the purpose of our model. We shall drop this attribute"
      ]
    },
    {
      "cell_type": "code",
      "metadata": {
        "colab": {
          "base_uri": "https://localhost:8080/"
        },
        "id": "eF5PLFWT2dsJ",
        "outputId": "bd09fdb0-fa80-4a11-fb07-11db9e6fe4fb"
      },
      "source": [
        "# environment\n",
        "dftrain['environment'].value_counts()"
      ],
      "execution_count": 408,
      "outputs": [
        {
          "output_type": "execute_result",
          "data": {
            "text/plain": [
              "prod    2982\n",
              "Name: environment, dtype: int64"
            ]
          },
          "metadata": {},
          "execution_count": 408
        }
      ]
    },
    {
      "cell_type": "markdown",
      "metadata": {
        "id": "eymuRZIg93ff"
      },
      "source": [
        "All 2982 `environment` have the same value. We can assume that value and drop the attribute"
      ]
    },
    {
      "cell_type": "code",
      "metadata": {
        "colab": {
          "base_uri": "https://localhost:8080/"
        },
        "id": "b6QH_KiX2dvx",
        "outputId": "e1c7fa10-82c3-4a65-a089-17d739e54ea2"
      },
      "source": [
        "# facility\n",
        "dftrain['facility'].value_counts()"
      ],
      "execution_count": 409,
      "outputs": [
        {
          "output_type": "execute_result",
          "data": {
            "text/plain": [
              "Parking,Gas Fired Central Heating                                                               184\n",
              "Parking                                                                                         135\n",
              "Parking,Gas Fired Central Heating,Wired for Cable Television                                    118\n",
              "Parking,Gas Fired Central Heating,Alarm,Wired for Cable Television                              112\n",
              "Parking,Gas Fired Central Heating,Alarm                                                          88\n",
              "Parking,Wired for Cable Television                                                               51\n",
              "Gas Fired Central Heating                                                                        46\n",
              "Parking,Alarm                                                                                    26\n",
              "Parking,Oil Fired Central Heating                                                                24\n",
              "Parking,Gas Fired Central Heating,Alarm,Wired for Cable Television,Wheelchair Access             19\n",
              "Parking,Alarm,Wired for Cable Television                                                         17\n",
              "Parking,Wired for Cable Television,Oil Fired Central Heating                                     16\n",
              "Gas Fired Central Heating,Wired for Cable Television                                             13\n",
              "Parking,Alarm,Wired for Cable Television,Oil Fired Central Heating                               13\n",
              "Wired for Cable Television                                                                       12\n",
              "Gas Fired Central Heating,Alarm,Wired for Cable Television                                       12\n",
              "Parking,Alarm,Oil Fired Central Heating                                                          10\n",
              "Parking,Gas Fired Central Heating,Wired for Cable Television,Wheelchair Access                   10\n",
              "Gas Fired Central Heating,Alarm                                                                   9\n",
              "Alarm                                                                                             7\n",
              "Parking,Wired for Cable Television,Wheelchair Access                                              7\n",
              "Parking,Gas Fired Central Heating,Alarm,Wheelchair Access                                         6\n",
              "Parking,Gas Fired Central Heating,Wheelchair Access                                               6\n",
              "Alarm,Wired for Cable Television                                                                  5\n",
              "Parking,Alarm,Wired for Cable Television,Wheelchair Access                                        4\n",
              "Oil Fired Central Heating                                                                         4\n",
              "Parking,Wheelchair Access                                                                         2\n",
              "Alarm,Oil Fired Central Heating                                                                   2\n",
              "Parking,Wired for Cable Television,Wheelchair Access,Oil Fired Central Heating                    2\n",
              "Gas Fired Central Heating,Alarm,Wired for Cable Television,Wheelchair Access                      1\n",
              "Parking,Alarm,Wired for Cable Television,Wheelchair Access,Oil Fired Central Heating              1\n",
              "Parking,Gas Fired Central Heating,Alarm,Wired for Cable Television,Oil Fired Central Heating      1\n",
              "Parking,Wheelchair Access,Oil Fired Central Heating                                               1\n",
              "Wheelchair Access                                                                                 1\n",
              "Name: facility, dtype: int64"
            ]
          },
          "metadata": {},
          "execution_count": 409
        }
      ]
    },
    {
      "cell_type": "markdown",
      "metadata": {
        "id": "yzRuosm7-azc"
      },
      "source": [
        "Empirically we shall expect this attribute to affect the price. So we will encode this for processing"
      ]
    },
    {
      "cell_type": "code",
      "metadata": {
        "colab": {
          "base_uri": "https://localhost:8080/"
        },
        "id": "vjY9wD1z-4oJ",
        "outputId": "ccfecf84-9b0f-4a6f-8d79-3e4721fe9c14"
      },
      "source": [
        "facility_att = dftrain['facility'].unique()\n",
        "facility_att"
      ],
      "execution_count": 410,
      "outputs": [
        {
          "output_type": "execute_result",
          "data": {
            "text/plain": [
              "array([nan, 'Parking',\n",
              "       'Parking,Gas Fired Central Heating,Wired for Cable Television',\n",
              "       'Parking,Alarm,Wired for Cable Television,Oil Fired Central Heating',\n",
              "       'Parking,Gas Fired Central Heating,Alarm',\n",
              "       'Parking,Gas Fired Central Heating',\n",
              "       'Parking,Oil Fired Central Heating',\n",
              "       'Parking,Gas Fired Central Heating,Wheelchair Access',\n",
              "       'Parking,Gas Fired Central Heating,Alarm,Wired for Cable Television,Oil Fired Central Heating',\n",
              "       'Gas Fired Central Heating',\n",
              "       'Parking,Gas Fired Central Heating,Alarm,Wired for Cable Television',\n",
              "       'Parking,Gas Fired Central Heating,Alarm,Wired for Cable Television,Wheelchair Access',\n",
              "       'Parking,Alarm,Oil Fired Central Heating',\n",
              "       'Parking,Wired for Cable Television,Oil Fired Central Heating',\n",
              "       'Parking,Alarm', 'Parking,Wired for Cable Television',\n",
              "       'Parking,Alarm,Wired for Cable Television',\n",
              "       'Gas Fired Central Heating,Alarm', 'Wired for Cable Television',\n",
              "       'Parking,Gas Fired Central Heating,Wired for Cable Television,Wheelchair Access',\n",
              "       'Oil Fired Central Heating', 'Alarm,Wired for Cable Television',\n",
              "       'Gas Fired Central Heating,Wired for Cable Television', 'Alarm',\n",
              "       'Wheelchair Access',\n",
              "       'Gas Fired Central Heating,Alarm,Wired for Cable Television',\n",
              "       'Parking,Gas Fired Central Heating,Alarm,Wheelchair Access',\n",
              "       'Parking,Wheelchair Access,Oil Fired Central Heating',\n",
              "       'Parking,Wired for Cable Television,Wheelchair Access',\n",
              "       'Parking,Alarm,Wired for Cable Television,Wheelchair Access',\n",
              "       'Parking,Wired for Cable Television,Wheelchair Access,Oil Fired Central Heating',\n",
              "       'Alarm,Oil Fired Central Heating',\n",
              "       'Gas Fired Central Heating,Alarm,Wired for Cable Television,Wheelchair Access',\n",
              "       'Parking,Wheelchair Access',\n",
              "       'Parking,Alarm,Wired for Cable Television,Wheelchair Access,Oil Fired Central Heating'],\n",
              "      dtype=object)"
            ]
          },
          "metadata": {},
          "execution_count": 410
        }
      ]
    },
    {
      "cell_type": "code",
      "metadata": {
        "id": "Jzv8YepG_NnV"
      },
      "source": [
        "facility_mapper = {\n",
        "    \"Parking\": 1,\n",
        "       \"Parking,Gas Fired Central Heating,Wired for Cable Television\": 2,\n",
        "       \"Parking,Alarm,Wired for Cable Television,Oil Fired Central Heating\": 3,\n",
        "       \"Parking,Gas Fired Central Heating,Alarm\": 4,\n",
        "       \"Parking,Gas Fired Central Heating\": 5,\n",
        "       \"Parking,Oil Fired Central Heating\": 6,\n",
        "       \"Parking,Gas Fired Central Heating,Wheelchair Access\": 7,\n",
        "       \"Parking,Gas Fired Central Heating,Alarm,Wired for Cable Television,Oil Fired Central Heating\": 8,\n",
        "       \"Gas Fired Central Heating\": 9,\n",
        "       \"Parking,Gas Fired Central Heating,Alarm,Wired for Cable Television\": 10,\n",
        "       \"Parking,Gas Fired Central Heating,Alarm,Wired for Cable Television,Wheelchair Access\": 11,\n",
        "       \"Parking,Alarm,Oil Fired Central Heating\": 12,\n",
        "       \"Parking,Wired for Cable Television,Oil Fired Central Heating\": 13,\n",
        "       \"Parking,Alarm\": 31,\n",
        "       \"Parking,Wired for Cable Television\": 14,\n",
        "       \"Parking,Alarm,Wired for Cable Television\": 15,\n",
        "       \"Gas Fired Central Heating,Alarm\": 32, \n",
        "       \"Wired for Cable Television\": 16,\n",
        "       \"Parking,Gas Fired Central Heating,Wired for Cable Television,Wheelchair Access\": 17,\n",
        "       \"Oil Fired Central Heating\": 33, \n",
        "       \"Alarm,Wired for Cable Television\": 18,\n",
        "       \"Gas Fired Central Heating,Wired for Cable Television\": 34, \n",
        "       \"Alarm\": 19,\n",
        "       \"Wheelchair Access\": 20,\n",
        "       \"Gas Fired Central Heating,Alarm,Wired for Cable Television\": 21,\n",
        "       \"Parking,Gas Fired Central Heating,Alarm,Wheelchair Access\": 22,\n",
        "       \"Parking,Wheelchair Access,Oil Fired Central Heating\": 23,\n",
        "       \"Parking,Wired for Cable Television,Wheelchair Access\": 24,\n",
        "       \"Parking,Alarm,Wired for Cable Television,Wheelchair Access\": 25,\n",
        "       \"Parking,Wired for Cable Television,Wheelchair Access,Oil Fired Central Heating\": 26,\n",
        "       \"Alarm,Oil Fired Central Heating\": 27,\n",
        "       \"Gas Fired Central Heating,Alarm,Wired for Cable Television,Wheelchair Access\": 28,\n",
        "       \"Parking,Wheelchair Access\": 29,\n",
        "       \"Parking,Alarm,Wired for Cable Television,Wheelchair Access,Oil Fired Central Heating\": 30\n",
        "}"
      ],
      "execution_count": 411,
      "outputs": []
    },
    {
      "cell_type": "code",
      "metadata": {
        "colab": {
          "base_uri": "https://localhost:8080/"
        },
        "id": "S38vNg-x2dzL",
        "outputId": "4b529baa-45c4-40b7-ca93-7c17504fc85a"
      },
      "source": [
        "# features\n",
        "dftrain['features'].value_counts()"
      ],
      "execution_count": 412,
      "outputs": [
        {
          "output_type": "execute_result",
          "data": {
            "text/plain": [
              "None                                                                                                                                                                                                                                                                                                                                                                                                                                                                                                                                                                                                                                                 1095\n",
              "Modern fitted kitchen\\nAll amenities on your doorstep\\n                                                                                                                                                                                                                                                                                                                                                                                                                                                                                                                                                                                                 3\n",
              "Heated by highly efficient Air Source Heat Pump\\nElegant reconstituted stone fire surround with wood burner\\nVilroy and Boch Sanitary ware\\nHigh performance triple glazed Aluclad windows\\nNolan Kitchens incorporating the €Signature in Frame' range with Lyscam Quartz worktops\\n 10 year Home Bond guarantee\\n                                                                                                                                                                                                                                                                                                                                     2\n",
              "Gas fired central heating with underfloor heating on the ground floor\\nDouble-glazed windows throughout\\nGated side access to garden\\nBeam Vacuum System\\nOff street parking\\nStriking open plan kitchen/breakfast and family room\\nA wealth of amenities close-by at villages of Blackrock and Monkstown\\nPublic transport links include the DART and Dublin Bus\\nThe N11 and the M50 are both easily accessed\\nOverall measurement 176 sqm (1,894 sqft)\\n                                                                                                                                                                                             2\n",
              "Superb Location \\nMature Development \\nClose to Amenities \\nGas Fired Central Heating System\\nPrivate Rear Garden \\nAvailable Immediately\\nPrivate Driveway\\nViewing Recommended \\n                                                                                                                                                                                                                                                                                                                                                                                                                                                                     2\n",
              "                                                                                                                                                                                                                                                                                                                                                                                                                                                                                                                                                                                                                                                     ... \n",
              "Prestigious highly regarded residential address\\nConvenient location close to Killiney Beach, the seafront and Killiney and Dalkey hills\\nFitted carpets &amp; curtains included in the sale\\nGas fired central heating\\nBright spacious generously proportioned accommodation of approximately 259sq.m (2,788sq.ft)\\nExtensive mature level grounds of approximately 0.5 acre with sunny southerly orientation\\nExcellent off street parking for numerous cars\\nA wide selection of schools, shops, sporting and recreational activities close by\\nConvenient to the N11 and M50 interchange\\nSubstantial detached garage with 2/3 store rooms\\n       1\n",
              "Gas fired central heating\\nNewly extended &amp; refurbished family home\\nMunster Joinery double glazed windows\\nNolte Kitchen with Quartz worktops &amp; Ponte Vechia Marble Splashback\\nHigh quality Siemens &amp; Whirlpool integrated appliances\\nSemi-solid Elka Oak timber floors &amp; Equipe Liberty tiles on ground floor\\nOff street parking\\nLandscaped front and back gardens\\nElectric car charging point\\n                                                                                                                                                                                                                                 1\n",
              "Beautiful Communal Rear Garden\\nBus and Dart links\\n10 minute walk to Graftom Street\\nPrivate Off Street Car Parking\\nDublin's Best Address\\n                                                                                                                                                                                                                                                                                                                                                                                                                                                                                                           1\n",
              "Year of construction 1930\\nWest facing garden\\nPrivate parking\\nSpacious living area\\nSolid fuel stove\\nCosy reading nook\\nLight filled kitchen\\nOpen plan conservatory\\nFitted wardrobes in all bedrooms\\nFully tiled bathroom\\n                                                                                                                                                                                                                                                                                                                                                                                                                       1\n",
              "Light filled and spacious accommodation\\n10 Minute walk to St Stephens Green\\nLarge sunny balcony\\nElectric central heating and double glazed windows\\nPresented in immaculate condition and can be sold with all contents included\\n                                                                                                                                                                                                                                                                                                                                                                                                                   1\n",
              "Name: features, Length: 1882, dtype: int64"
            ]
          },
          "metadata": {},
          "execution_count": 412
        }
      ]
    },
    {
      "cell_type": "markdown",
      "metadata": {
        "id": "hJucLvQtAv-7"
      },
      "source": [
        "`features` is mostly free style text with most values missing. We will drop this attribute"
      ]
    },
    {
      "cell_type": "code",
      "metadata": {
        "colab": {
          "base_uri": "https://localhost:8080/"
        },
        "id": "BruFFYtn29Mt",
        "outputId": "4d3f4f8f-75c6-4c6c-d521-1a89e29e2158"
      },
      "source": [
        "# property_category\n",
        "dftrain['property_category'].value_counts()"
      ],
      "execution_count": 413,
      "outputs": [
        {
          "output_type": "execute_result",
          "data": {
            "text/plain": [
              "sale                      2923\n",
              "new_development_parent      59\n",
              "Name: property_category, dtype: int64"
            ]
          },
          "metadata": {},
          "execution_count": 413
        }
      ]
    },
    {
      "cell_type": "markdown",
      "metadata": {
        "id": "mvjNzhs3BiHK"
      },
      "source": [
        "Empirically whether a house is a new build or and old house does not really affect the price. But let encode this attribute so that we can check it's correlation to price before deciding whether to drop the `property_category` attribute or not."
      ]
    },
    {
      "cell_type": "code",
      "metadata": {
        "colab": {
          "base_uri": "https://localhost:8080/"
        },
        "id": "ck4gOvIADKQ5",
        "outputId": "6abfe8ab-cef4-4ce7-f834-9792712b3833"
      },
      "source": [
        "property_category_att = dftrain['property_category'].unique()\n",
        "property_category_att"
      ],
      "execution_count": 414,
      "outputs": [
        {
          "output_type": "execute_result",
          "data": {
            "text/plain": [
              "array(['new_development_parent', 'sale'], dtype=object)"
            ]
          },
          "metadata": {},
          "execution_count": 414
        }
      ]
    },
    {
      "cell_type": "code",
      "metadata": {
        "id": "qnZWJuPHDRRS"
      },
      "source": [
        "property_category_mapper = {\n",
        "    \"new_development_parent\": 1,\n",
        "    \"sale\": 2\n",
        "}"
      ],
      "execution_count": 415,
      "outputs": []
    },
    {
      "cell_type": "code",
      "metadata": {
        "colab": {
          "base_uri": "https://localhost:8080/"
        },
        "id": "-uQk38nl29oa",
        "outputId": "65007876-b593-46fa-9722-d11ba2bd5e28"
      },
      "source": [
        "# property_type\n",
        "dftrain['property_type'].value_counts()"
      ],
      "execution_count": 416,
      "outputs": [
        {
          "output_type": "execute_result",
          "data": {
            "text/plain": [
              "apartment         759\n",
              "semi-detached     754\n",
              "terraced          554\n",
              "detached          398\n",
              "end-of-terrace    237\n",
              "bungalow           84\n",
              "duplex             60\n",
              "site               55\n",
              "townhouse          27\n",
              "studio              3\n",
              "Name: property_type, dtype: int64"
            ]
          },
          "metadata": {},
          "execution_count": 416
        }
      ]
    },
    {
      "cell_type": "markdown",
      "metadata": {
        "id": "-o7JzbMcDcoQ"
      },
      "source": [
        "We expect the property type to have an effect on the price, hence we are encoding this attribute."
      ]
    },
    {
      "cell_type": "code",
      "metadata": {
        "colab": {
          "base_uri": "https://localhost:8080/"
        },
        "id": "CS7lVQk9DpoL",
        "outputId": "d0a6267f-9de1-476e-93ae-0c1c8bf8b167"
      },
      "source": [
        "property_type_values = dftrain['property_type'].unique()\n",
        "property_type_values"
      ],
      "execution_count": 417,
      "outputs": [
        {
          "output_type": "execute_result",
          "data": {
            "text/plain": [
              "array([nan, 'detached', 'semi-detached', 'apartment', 'terraced', 'site',\n",
              "       'bungalow', 'townhouse', 'end-of-terrace', 'duplex', 'studio'],\n",
              "      dtype=object)"
            ]
          },
          "metadata": {},
          "execution_count": 417
        }
      ]
    },
    {
      "cell_type": "code",
      "metadata": {
        "id": "WCgbBt57Dzzh"
      },
      "source": [
        "property_type_mapper = {\n",
        "    \"detached\": 1, \n",
        "    \"semi-detached\": 2, \n",
        "    \"apartment\": 3, \n",
        "    \"terraced\": 4, \n",
        "    \"site\": 5,\n",
        "    \"bungalow\": 6, \n",
        "    \"townhouse\": 7, \n",
        "    \"end-of-terrace\": 8, \n",
        "    \"duplex\": 9, \n",
        "    \"studio\": 10\n",
        "}"
      ],
      "execution_count": 418,
      "outputs": []
    },
    {
      "cell_type": "markdown",
      "metadata": {
        "id": "4esrSWXnmqQc"
      },
      "source": [
        "**Data Preparation**"
      ]
    },
    {
      "cell_type": "markdown",
      "metadata": {
        "id": "MZesqn9WpD5W"
      },
      "source": [
        "**we make a copy of the data**"
      ]
    },
    {
      "cell_type": "code",
      "metadata": {
        "id": "1H-_UgHhmt5t"
      },
      "source": [
        "original_dftrain = dftrain.copy(deep=True)\n",
        "original_dftest = dftest.copy(deep=True)\n",
        "original_dfcost = dfcost.copy(deep=True)"
      ],
      "execution_count": 419,
      "outputs": []
    },
    {
      "cell_type": "markdown",
      "metadata": {
        "id": "dmlQcUJ_Eo8F"
      },
      "source": [
        "**Encoding Ordinal Categorical Attributes**"
      ]
    },
    {
      "cell_type": "code",
      "metadata": {
        "id": "fuTLP9vNE9le"
      },
      "source": [
        "# area\n",
        "dftrain['area'] = dftrain['area'].replace(area_mapper)\n",
        "dftest['area'] = dftest['area'].replace(area_mapper)\n",
        "# dfcost['area'] = dfcost['area'].replace(area_mapper)\n",
        "\n",
        "# ber_classification\n",
        "dftrain['ber_classification'] = dftrain['ber_classification'].replace(ber_mapper)\n",
        "dftest['ber_classification'] = dftest['ber_classification'].replace(ber_mapper)\n",
        "# dfcost['ber_classification'] = dfcost['ber_classification'].replace(ber_mapper)\n",
        "\n",
        "# facility_mapper\n",
        "dftrain['facility'] = dftrain['facility'].replace(facility_mapper)\n",
        "dftest['facility'] = dftest['facility'].replace(facility_mapper)\n",
        "# dfcost['facility'] = dfcost['facility'].replace(facility_mapper)\n",
        "\n",
        "# property_category\n",
        "dftrain['property_category'] = dftrain['property_category'].replace(property_category_mapper)\n",
        "dftest['property_category'] = dftest['property_category'].replace(property_category_mapper)\n",
        "# dfcost['property_category'] = dfcost['property_category'].replace(property_category_mapper)\n",
        "\n",
        "# property_type\n",
        "dftrain['property_type'] = dftrain['property_type'].replace(property_type_mapper)\n",
        "dftest['property_type'] = dftest['property_type'].replace(property_type_mapper)\n",
        "# dfcost['property_type'] = dfcost['property_type'].replace(property_type_mapper)"
      ],
      "execution_count": 420,
      "outputs": []
    },
    {
      "cell_type": "markdown",
      "metadata": {
        "id": "BRDjPTVBJpDM"
      },
      "source": [
        "**Correlation matrix after encoding some of the attributes**"
      ]
    },
    {
      "cell_type": "code",
      "metadata": {
        "colab": {
          "base_uri": "https://localhost:8080/",
          "height": 623
        },
        "id": "yLyZjRrxHheQ",
        "outputId": "12077085-6da1-4a5b-c34f-9acc848265fd"
      },
      "source": [
        "#correlation matrix\n",
        "fig, ax = plt.subplots(figsize=(11, 9))\n",
        "sns.heatmap(dftrain.corr(), annot=True);"
      ],
      "execution_count": 421,
      "outputs": [
        {
          "output_type": "display_data",
          "data": {
            "image/png": "[encoded data removed]",
            "text/plain": [
              "<Figure size 792x648 with 2 Axes>"
            ]
          },
          "metadata": {
            "needs_background": "light"
          }
        }
      ]
    },
    {
      "cell_type": "markdown",
      "metadata": {
        "id": "xJxVKQJVqSp8"
      },
      "source": [
        "Attributes with a positive correlation to price are :\n",
        "* `bathrooms`\n",
        "* `beds`\n",
        "* `longitude`\n",
        "* `surface`\n",
        "\n",
        "We expected `area` to make this list, but instead we got `longitude`. Thinking about it, these 2 attributes are synonynous.\n",
        "\n",
        "`property_type` type was also a surprise !\n",
        "\n",
        "We drop some columns that are either redundant or bare no correlation to price: `ad_id`, `area`, `latitude`, `county`, `environment`, `description_block`, `features`, `ber_classification`, `facility`, `no_of_units`, `property_category`, `property_type`"
      ]
    },
    {
      "cell_type": "code",
      "metadata": {
        "colab": {
          "base_uri": "https://localhost:8080/",
          "height": 204
        },
        "id": "RQM_aSeqmuHT",
        "outputId": "0f58665f-b74c-484f-ff30-badd0505b04a"
      },
      "source": [
        "dftrain.drop(['ad_id', 'area', 'latitude', 'county', 'environment', 'description_block', 'features','no_of_units','property_category', 'ber_classification', 'facility', 'property_type'], axis=1, inplace=True)\n",
        "dftrain.tail()"
      ],
      "execution_count": 422,
      "outputs": [
        {
          "output_type": "execute_result",
          "data": {
            "text/html": [
              "<div>\n",
              "<style scoped>\n",
              "    .dataframe tbody tr th:only-of-type {\n",
              "        vertical-align: middle;\n",
              "    }\n",
              "\n",
              "    .dataframe tbody tr th {\n",
              "        vertical-align: top;\n",
              "    }\n",
              "\n",
              "    .dataframe thead th {\n",
              "        text-align: right;\n",
              "    }\n",
              "</style>\n",
              "<table border=\"1\" class=\"dataframe\">\n",
              "  <thead>\n",
              "    <tr style=\"text-align: right;\">\n",
              "      <th></th>\n",
              "      <th>bathrooms</th>\n",
              "      <th>beds</th>\n",
              "      <th>longitude</th>\n",
              "      <th>price</th>\n",
              "      <th>surface</th>\n",
              "    </tr>\n",
              "  </thead>\n",
              "  <tbody>\n",
              "    <tr>\n",
              "      <th>2977</th>\n",
              "      <td>2.0</td>\n",
              "      <td>2.0</td>\n",
              "      <td>-6.237199</td>\n",
              "      <td>415000.0</td>\n",
              "      <td>56.0</td>\n",
              "    </tr>\n",
              "    <tr>\n",
              "      <th>2978</th>\n",
              "      <td>1.0</td>\n",
              "      <td>3.0</td>\n",
              "      <td>-6.294268</td>\n",
              "      <td>485000.0</td>\n",
              "      <td>101.0</td>\n",
              "    </tr>\n",
              "    <tr>\n",
              "      <th>2979</th>\n",
              "      <td>1.0</td>\n",
              "      <td>2.0</td>\n",
              "      <td>-6.276856</td>\n",
              "      <td>299000.0</td>\n",
              "      <td>55.6</td>\n",
              "    </tr>\n",
              "    <tr>\n",
              "      <th>2980</th>\n",
              "      <td>2.0</td>\n",
              "      <td>3.0</td>\n",
              "      <td>-6.178500</td>\n",
              "      <td>495000.0</td>\n",
              "      <td>97.0</td>\n",
              "    </tr>\n",
              "    <tr>\n",
              "      <th>2981</th>\n",
              "      <td>2.0</td>\n",
              "      <td>3.0</td>\n",
              "      <td>-6.325158</td>\n",
              "      <td>525000.0</td>\n",
              "      <td>129.3</td>\n",
              "    </tr>\n",
              "  </tbody>\n",
              "</table>\n",
              "</div>"
            ],
            "text/plain": [
              "      bathrooms  beds  longitude     price  surface\n",
              "2977        2.0   2.0  -6.237199  415000.0     56.0\n",
              "2978        1.0   3.0  -6.294268  485000.0    101.0\n",
              "2979        1.0   2.0  -6.276856  299000.0     55.6\n",
              "2980        2.0   3.0  -6.178500  495000.0     97.0\n",
              "2981        2.0   3.0  -6.325158  525000.0    129.3"
            ]
          },
          "metadata": {},
          "execution_count": 422
        }
      ]
    },
    {
      "cell_type": "code",
      "metadata": {
        "colab": {
          "base_uri": "https://localhost:8080/",
          "height": 204
        },
        "id": "yJS-P6ulMPE3",
        "outputId": "285996a9-01b7-47f6-faa9-a537cd2de46e"
      },
      "source": [
        "dftest.drop(['ad_id', 'area', 'latitude', 'county', 'environment', 'description_block', 'features','no_of_units','property_category', 'ber_classification', 'facility', 'property_type'], axis=1, inplace=True)\n",
        "dftest.head(5)"
      ],
      "execution_count": 423,
      "outputs": [
        {
          "output_type": "execute_result",
          "data": {
            "text/html": [
              "<div>\n",
              "<style scoped>\n",
              "    .dataframe tbody tr th:only-of-type {\n",
              "        vertical-align: middle;\n",
              "    }\n",
              "\n",
              "    .dataframe tbody tr th {\n",
              "        vertical-align: top;\n",
              "    }\n",
              "\n",
              "    .dataframe thead th {\n",
              "        text-align: right;\n",
              "    }\n",
              "</style>\n",
              "<table border=\"1\" class=\"dataframe\">\n",
              "  <thead>\n",
              "    <tr style=\"text-align: right;\">\n",
              "      <th></th>\n",
              "      <th>bathrooms</th>\n",
              "      <th>beds</th>\n",
              "      <th>longitude</th>\n",
              "      <th>surface</th>\n",
              "    </tr>\n",
              "  </thead>\n",
              "  <tbody>\n",
              "    <tr>\n",
              "      <th>0</th>\n",
              "      <td>2.0</td>\n",
              "      <td>4.0</td>\n",
              "      <td>-6.101148</td>\n",
              "      <td>142.0</td>\n",
              "    </tr>\n",
              "    <tr>\n",
              "      <th>1</th>\n",
              "      <td>2.0</td>\n",
              "      <td>3.0</td>\n",
              "      <td>-6.452909</td>\n",
              "      <td>114.0</td>\n",
              "    </tr>\n",
              "    <tr>\n",
              "      <th>2</th>\n",
              "      <td>3.0</td>\n",
              "      <td>4.0</td>\n",
              "      <td>-6.262964</td>\n",
              "      <td>172.0</td>\n",
              "    </tr>\n",
              "    <tr>\n",
              "      <th>3</th>\n",
              "      <td>4.0</td>\n",
              "      <td>3.0</td>\n",
              "      <td>-6.458647</td>\n",
              "      <td>132.4</td>\n",
              "    </tr>\n",
              "    <tr>\n",
              "      <th>4</th>\n",
              "      <td>1.0</td>\n",
              "      <td>3.0</td>\n",
              "      <td>-6.393587</td>\n",
              "      <td>88.0</td>\n",
              "    </tr>\n",
              "  </tbody>\n",
              "</table>\n",
              "</div>"
            ],
            "text/plain": [
              "   bathrooms  beds  longitude  surface\n",
              "0        2.0   4.0  -6.101148    142.0\n",
              "1        2.0   3.0  -6.452909    114.0\n",
              "2        3.0   4.0  -6.262964    172.0\n",
              "3        4.0   3.0  -6.458647    132.4\n",
              "4        1.0   3.0  -6.393587     88.0"
            ]
          },
          "metadata": {},
          "execution_count": 423
        }
      ]
    },
    {
      "cell_type": "markdown",
      "metadata": {
        "id": "WEQS-JvytHac"
      },
      "source": [
        "Let's check the missing values again"
      ]
    },
    {
      "cell_type": "code",
      "metadata": {
        "colab": {
          "base_uri": "https://localhost:8080/"
        },
        "id": "iZwzRGjEtHtX",
        "outputId": "6094f115-0d96-4a02-bcb6-62a44e42327b"
      },
      "source": [
        "dftrain.isna().sum()"
      ],
      "execution_count": 424,
      "outputs": [
        {
          "output_type": "execute_result",
          "data": {
            "text/plain": [
              "bathrooms     51\n",
              "beds          51\n",
              "longitude      0\n",
              "price         90\n",
              "surface      551\n",
              "dtype: int64"
            ]
          },
          "metadata": {},
          "execution_count": 424
        }
      ]
    },
    {
      "cell_type": "markdown",
      "metadata": {
        "id": "2zlHXQz3zNr-"
      },
      "source": [
        "**Treatment of Missing Values in Numerical Columns**"
      ]
    },
    {
      "cell_type": "markdown",
      "metadata": {
        "id": "wBTgm5joNQkt"
      },
      "source": [
        "**Missing prices**\n",
        "\n",
        "Since we are building a model to predict the price, data without a price is not very usefull. We should drop those rows."
      ]
    },
    {
      "cell_type": "code",
      "metadata": {
        "colab": {
          "base_uri": "https://localhost:8080/"
        },
        "id": "Wo07F7GINRKc",
        "outputId": "70b1ed8b-7d15-44f9-f6c3-618b25058c31"
      },
      "source": [
        "dftrain = dftrain[dftrain['price'].notna()]\n",
        "# dftest = dftest[dftest['price'].notna()]\n",
        "dftrain.isna().sum()"
      ],
      "execution_count": 425,
      "outputs": [
        {
          "output_type": "execute_result",
          "data": {
            "text/plain": [
              "bathrooms      0\n",
              "beds           0\n",
              "longitude      0\n",
              "price          0\n",
              "surface      490\n",
              "dtype: int64"
            ]
          },
          "metadata": {},
          "execution_count": 425
        }
      ]
    },
    {
      "cell_type": "markdown",
      "metadata": {
        "id": "usVEYV9qOv2-"
      },
      "source": [
        "**Missing surfaces**\n",
        "\n",
        "We have no mean to accurately estimate the surface of houses, so we decide to drop all the 490 rows where surface is missing"
      ]
    },
    {
      "cell_type": "code",
      "metadata": {
        "colab": {
          "base_uri": "https://localhost:8080/"
        },
        "id": "tB_0Da2lPYS6",
        "outputId": "adb83d0e-3ff4-4d61-8970-668b83567552"
      },
      "source": [
        "# dftrain[dftrain['surface'].isnull()]\n",
        "\n",
        "dftrain = dftrain[dftrain['surface'].notna()]\n",
        "dftest = dftest[dftest['surface'].notna()]\n",
        "dftrain.isna().sum()"
      ],
      "execution_count": 426,
      "outputs": [
        {
          "output_type": "execute_result",
          "data": {
            "text/plain": [
              "bathrooms    0\n",
              "beds         0\n",
              "longitude    0\n",
              "price        0\n",
              "surface      0\n",
              "dtype: int64"
            ]
          },
          "metadata": {},
          "execution_count": 426
        }
      ]
    },
    {
      "cell_type": "markdown",
      "metadata": {
        "id": "AcfHIbZr0sx8"
      },
      "source": [
        "**Distribution analysis of the remaining attributes**"
      ]
    },
    {
      "cell_type": "code",
      "metadata": {
        "colab": {
          "base_uri": "https://localhost:8080/",
          "height": 279
        },
        "id": "V6_eyNhJS6Wm",
        "outputId": "e9634cd1-68a1-42f9-d1e5-da0541949ef1"
      },
      "source": [
        "# 'longitude'\n",
        "dftrain['longitude'].hist(bins=100)\n",
        "plt.xlabel('longitude')\n",
        "plt.ylabel('Number of houses')\n",
        "plt.show()"
      ],
      "execution_count": 427,
      "outputs": [
        {
          "output_type": "display_data",
          "data": {
            "image/png": "[encoded data removed]",
            "text/plain": [
              "<Figure size 432x288 with 1 Axes>"
            ]
          },
          "metadata": {
            "needs_background": "light"
          }
        }
      ]
    },
    {
      "cell_type": "code",
      "metadata": {
        "colab": {
          "base_uri": "https://localhost:8080/",
          "height": 265
        },
        "id": "_g6ccXpgYZ68",
        "outputId": "646050b1-b2f2-4ee4-ab5c-ba623e32fa39"
      },
      "source": [
        "dftrain.boxplot(column='longitude')\n",
        "plt.show()"
      ],
      "execution_count": 428,
      "outputs": [
        {
          "output_type": "display_data",
          "data": {
            "image/png": "[encoded data removed]",
            "text/plain": [
              "<Figure size 432x288 with 1 Axes>"
            ]
          },
          "metadata": {
            "needs_background": "light"
          }
        }
      ]
    },
    {
      "cell_type": "code",
      "metadata": {
        "colab": {
          "base_uri": "https://localhost:8080/",
          "height": 279
        },
        "id": "8qqSbAvKfaZq",
        "outputId": "15e870b3-4df3-405a-86fd-f8cc82845d6b"
      },
      "source": [
        "# 'bathrooms'\n",
        "dftrain['bathrooms'].hist(bins=20)\n",
        "plt.xlabel('bathrooms')\n",
        "plt.ylabel('Number of houses')\n",
        "plt.show()"
      ],
      "execution_count": 429,
      "outputs": [
        {
          "output_type": "display_data",
          "data": {
            "image/png": "[encoded data removed]",
            "text/plain": [
              "<Figure size 432x288 with 1 Axes>"
            ]
          },
          "metadata": {
            "needs_background": "light"
          }
        }
      ]
    },
    {
      "cell_type": "code",
      "metadata": {
        "colab": {
          "base_uri": "https://localhost:8080/",
          "height": 265
        },
        "id": "bIHftyicfajq",
        "outputId": "62001a43-76cb-45dc-96bd-4384c9c904b1"
      },
      "source": [
        "dftrain.boxplot(column='bathrooms')\n",
        "plt.show()"
      ],
      "execution_count": 430,
      "outputs": [
        {
          "output_type": "display_data",
          "data": {
            "image/png": "[encoded data removed]",
            "text/plain": [
              "<Figure size 432x288 with 1 Axes>"
            ]
          },
          "metadata": {
            "needs_background": "light"
          }
        }
      ]
    },
    {
      "cell_type": "code",
      "metadata": {
        "colab": {
          "base_uri": "https://localhost:8080/",
          "height": 279
        },
        "id": "hy4d33LvfbEn",
        "outputId": "58fe8581-5483-46cc-dc7f-768d34036541"
      },
      "source": [
        "# 'beds'\n",
        "dftrain['beds'].hist(bins=20)\n",
        "plt.xlabel('beds')\n",
        "plt.ylabel('Number of houses')\n",
        "plt.show()"
      ],
      "execution_count": 431,
      "outputs": [
        {
          "output_type": "display_data",
          "data": {
            "image/png": "[encoded data removed]",
            "text/plain": [
              "<Figure size 432x288 with 1 Axes>"
            ]
          },
          "metadata": {
            "needs_background": "light"
          }
        }
      ]
    },
    {
      "cell_type": "code",
      "metadata": {
        "colab": {
          "base_uri": "https://localhost:8080/",
          "height": 265
        },
        "id": "VVtA51c3fbV1",
        "outputId": "586b91a6-98b8-4263-8268-c06a68147e0d"
      },
      "source": [
        "dftrain.boxplot(column='beds')\n",
        "plt.show()"
      ],
      "execution_count": 432,
      "outputs": [
        {
          "output_type": "display_data",
          "data": {
            "image/png": "[encoded data removed]",
            "text/plain": [
              "<Figure size 432x288 with 1 Axes>"
            ]
          },
          "metadata": {
            "needs_background": "light"
          }
        }
      ]
    },
    {
      "cell_type": "code",
      "metadata": {
        "colab": {
          "base_uri": "https://localhost:8080/",
          "height": 282
        },
        "id": "eH04MVeZf7cj",
        "outputId": "e0c72c7f-a9fb-495d-ae5a-7c6d53da6ea0"
      },
      "source": [
        "# 'surface'\n",
        "dftrain['surface'].hist(bins=25)\n",
        "plt.xlabel('surface')\n",
        "plt.ylabel('Number of houses')\n",
        "plt.show()"
      ],
      "execution_count": 433,
      "outputs": [
        {
          "output_type": "display_data",
          "data": {
            "image/png": "[encoded data removed]",
            "text/plain": [
              "<Figure size 432x288 with 1 Axes>"
            ]
          },
          "metadata": {
            "needs_background": "light"
          }
        }
      ]
    },
    {
      "cell_type": "code",
      "metadata": {
        "colab": {
          "base_uri": "https://localhost:8080/",
          "height": 265
        },
        "id": "7rpj-lJZgbUJ",
        "outputId": "d830c2d0-fd38-491a-803a-a6686938911e"
      },
      "source": [
        "dftrain.boxplot(column='surface')\n",
        "plt.show()"
      ],
      "execution_count": 434,
      "outputs": [
        {
          "output_type": "display_data",
          "data": {
            "image/png": "[encoded data removed]",
            "text/plain": [
              "<Figure size 432x288 with 1 Axes>"
            ]
          },
          "metadata": {
            "needs_background": "light"
          }
        }
      ]
    },
    {
      "cell_type": "markdown",
      "metadata": {
        "id": "Dt_Fo-SQhw1y"
      },
      "source": [
        "We observe that `bathrooms`,`beds` and `surface` have outliers so we are using `RobustScaler` to rescale the data "
      ]
    },
    {
      "cell_type": "code",
      "metadata": {
        "id": "uZQeOGG2gmzG"
      },
      "source": [
        "# robust_scaler = RobustScaler()\n",
        "# dftrain[['bathrooms','beds','surface']] = robust_scaler.fit_transform(dftrain[['bathrooms','beds','surface']])\n",
        "\n",
        "# dftest[['bathrooms','beds','surface']] = robust_scaler.fit_transform(dftest[['bathrooms','beds','surface']])"
      ],
      "execution_count": 435,
      "outputs": []
    },
    {
      "cell_type": "code",
      "metadata": {
        "colab": {
          "base_uri": "https://localhost:8080/",
          "height": 279
        },
        "id": "xLgUu-XRiQ-d",
        "outputId": "ef733179-68c7-48b0-d755-151a22442356"
      },
      "source": [
        "# 'bathrooms'\n",
        "dftrain['bathrooms'].hist(bins=20)\n",
        "plt.xlabel('bathrooms')\n",
        "plt.ylabel('Number of houses')\n",
        "plt.show()"
      ],
      "execution_count": 436,
      "outputs": [
        {
          "output_type": "display_data",
          "data": {
            "image/png": "[encoded data removed]",
            "text/plain": [
              "<Figure size 432x288 with 1 Axes>"
            ]
          },
          "metadata": {
            "needs_background": "light"
          }
        }
      ]
    },
    {
      "cell_type": "markdown",
      "metadata": {
        "id": "0yqGwp0TkNpx"
      },
      "source": [
        "For `longitude`, only 1 outlier could be observed so we are using a `StandardScaler`"
      ]
    },
    {
      "cell_type": "code",
      "metadata": {
        "id": "6M1M_IPrkOIT"
      },
      "source": [
        "# standard_scaler = StandardScaler()\n",
        "# dftrain[['longitude']] = standard_scaler.fit_transform(dftrain[['longitude']])\n",
        "\n",
        "# dftest[['longitude']] = standard_scaler.fit_transform(dftest[['longitude']])"
      ],
      "execution_count": 437,
      "outputs": []
    },
    {
      "cell_type": "code",
      "metadata": {
        "colab": {
          "base_uri": "https://localhost:8080/",
          "height": 279
        },
        "id": "xRqmoHYniadb",
        "outputId": "304531e9-f522-4996-8b6a-5e44100d9ac2"
      },
      "source": [
        "# 'bathrooms'\n",
        "dftrain['longitude'].hist(bins=20)\n",
        "plt.xlabel('longitude')\n",
        "plt.ylabel('Number of houses')\n",
        "plt.show()"
      ],
      "execution_count": 438,
      "outputs": [
        {
          "output_type": "display_data",
          "data": {
            "image/png": "[encoded data removed]",
            "text/plain": [
              "<Figure size 432x288 with 1 Axes>"
            ]
          },
          "metadata": {
            "needs_background": "light"
          }
        }
      ]
    },
    {
      "cell_type": "code",
      "metadata": {
        "colab": {
          "base_uri": "https://localhost:8080/"
        },
        "id": "M3joq1aRlvTp",
        "outputId": "6f7c26f4-bcc4-4417-f9c3-fe138f0885ec"
      },
      "source": [
        "dftrain[['longitude']].min()"
      ],
      "execution_count": 439,
      "outputs": [
        {
          "output_type": "execute_result",
          "data": {
            "text/plain": [
              "longitude   -6.521183\n",
              "dtype: float64"
            ]
          },
          "metadata": {},
          "execution_count": 439
        }
      ]
    },
    {
      "cell_type": "markdown",
      "metadata": {
        "id": "CanGkv5GlUwp"
      },
      "source": [
        "We still have negative values after the transformation. We need to add a constant to all values in order to shift them to a positive range before applying a log transformation. \n",
        "\n",
        "Here we are have chosen to shift the values to the interval $[1, +\\infty]$ before applying a log transformation."
      ]
    },
    {
      "cell_type": "code",
      "metadata": {
        "id": "bf-fQxJ5mEr_"
      },
      "source": [
        "# Use a log transformation to decrease the impact of outliers\n",
        "# dftrain['longitude'] = np.log(dftrain['longitude']+3.05)\n",
        "# dftest['longitude'] = np.log(dftest['longitude']+3.05)"
      ],
      "execution_count": 440,
      "outputs": []
    },
    {
      "cell_type": "code",
      "metadata": {
        "colab": {
          "base_uri": "https://localhost:8080/",
          "height": 279
        },
        "id": "cDCpWLs1mkQa",
        "outputId": "cf90e955-c257-4d29-88eb-5fe3bd0c297f"
      },
      "source": [
        "# 'bathrooms'\n",
        "dftrain['longitude'].hist(bins=20)\n",
        "plt.xlabel('longitude')\n",
        "plt.ylabel('Number of houses')\n",
        "plt.show()"
      ],
      "execution_count": 441,
      "outputs": [
        {
          "output_type": "display_data",
          "data": {
            "image/png": "[encoded data removed]",
            "text/plain": [
              "<Figure size 432x288 with 1 Axes>"
            ]
          },
          "metadata": {
            "needs_background": "light"
          }
        }
      ]
    },
    {
      "cell_type": "markdown",
      "metadata": {
        "id": "uQwpHLyemj2U"
      },
      "source": [
        ""
      ]
    },
    {
      "cell_type": "code",
      "metadata": {
        "colab": {
          "base_uri": "https://localhost:8080/"
        },
        "id": "TzRNcvIhM0KG",
        "outputId": "3f869e3b-65e5-4be1-cc28-1ac63d5bc464"
      },
      "source": [
        "dftrain.shape"
      ],
      "execution_count": 442,
      "outputs": [
        {
          "output_type": "execute_result",
          "data": {
            "text/plain": [
              "(2402, 5)"
            ]
          },
          "metadata": {},
          "execution_count": 442
        }
      ]
    },
    {
      "cell_type": "code",
      "metadata": {
        "id": "FZr5py_XOpCo"
      },
      "source": [
        "dftrain.to_csv(syntPath+'house_train_prepared.csv')\n",
        "dftest.to_csv(syntPath+'house_test_prepared.csv')"
      ],
      "execution_count": 443,
      "outputs": []
    },
    {
      "cell_type": "markdown",
      "metadata": {
        "id": "2PMoPLlUJ1Ly"
      },
      "source": [
        "## Training & Test Data"
      ]
    },
    {
      "cell_type": "code",
      "metadata": {
        "id": "loLTHklwKGnV"
      },
      "source": [
        "# split data into training and test\n",
        "from sklearn.model_selection import train_test_split\n",
        "\n",
        "y = dftrain['price']\n",
        "X = dftrain.drop('price', axis=1).values\n",
        "\n",
        "# training: 70% (0.7), test: 30% (0.3) \n",
        "# you could try any other combination \n",
        "# but consider 50% of training as the low boundary\n",
        "X_train,X_test,y_train,y_test = train_test_split(X, y, test_size=0.3)"
      ],
      "execution_count": 444,
      "outputs": []
    },
    {
      "cell_type": "markdown",
      "metadata": {
        "id": "bJFJQxAS9HZK"
      },
      "source": [
        "# PIECEWISE REGRESSION"
      ]
    },
    {
      "cell_type": "markdown",
      "metadata": {
        "id": "uQ_1QsLToIDi"
      },
      "source": [
        "## Full Model"
      ]
    },
    {
      "cell_type": "code",
      "metadata": {
        "id": "Yv5j1KzzMUnm"
      },
      "source": [
        "# select some features columns just for the baseline model\n",
        "# assume not all of the features are informative or useful\n",
        "# in this exercise you could try all of them if possible\n",
        "\n",
        "featrain = ['bathrooms','beds','surface','longitude','price']\n",
        "# dropna: remove missing values\n",
        "df_subset_train = dftrain[featrain].dropna(axis=0)\n",
        "\n",
        "featest = ['bathrooms','beds','surface','longitude']\n",
        "df_subset_test  =  dftest[featest].dropna(axis=0)\n",
        "\n",
        "# cost\n",
        "dfcost = dfcost[dfcost.index.isin(df_subset_test.index)]"
      ],
      "execution_count": 445,
      "outputs": []
    },
    {
      "cell_type": "code",
      "metadata": {
        "colab": {
          "base_uri": "https://localhost:8080/"
        },
        "id": "CCLKVXfSsDe4",
        "outputId": "f2c323f7-6df9-40dc-ef3d-73acda8dd717"
      },
      "source": [
        "print('Number of nan in df_subset_train dataset: ',df_subset_train.isnull().sum().sum())\n",
        "print('Number of nan in df_subset_test dataset: ',df_subset_test.isnull().sum().sum())"
      ],
      "execution_count": 446,
      "outputs": [
        {
          "output_type": "stream",
          "name": "stdout",
          "text": [
            "Number of nan in df_subset_train dataset:  0\n",
            "Number of nan in df_subset_test dataset:  0\n"
          ]
        }
      ]
    },
    {
      "cell_type": "code",
      "metadata": {
        "id": "Oc0Qf6CGsDQt"
      },
      "source": [
        "# train set, input columns\n",
        "Xs_train = df_subset_train.iloc[:,0:-1].values \n",
        "# train set, output column, cost\n",
        "ys_train = df_subset_train.iloc[:,-1].values.reshape(-1,1)   \n",
        "\n",
        "# test set, input columns\n",
        "Xs_test = df_subset_test.iloc[:,0:].values \n",
        "# test set, output column, cost\n",
        "y_test = dfcost.Expected.values"
      ],
      "execution_count": 447,
      "outputs": []
    },
    {
      "cell_type": "code",
      "metadata": {
        "id": "Yzsg_uaEsDFP"
      },
      "source": [
        "# StandardScaler() will normalize the features i.e. each column of X, \n",
        "# so, each column/feature/variable will have μ = 0 and σ = 1\n",
        "sc = StandardScaler()\n",
        "\n",
        "Xss_train = np.hstack([Xs_train,Xs_train[:,[2]]**2])\n",
        "xscaler = sc.fit(Xss_train)\n",
        "Xn_train = xscaler.transform(Xss_train)\n",
        "Xn_train = Xs_train\n",
        "\n",
        "Xss_test = np.hstack([Xs_test,Xs_test[:,[2]]**2])\n",
        "Xn_test = xscaler.transform(Xss_test)\n",
        "Xn_test = Xs_test\n",
        "\n",
        "ylog = np.log(ys_train.astype('float'))\n",
        "yscaler = StandardScaler().fit(ylog)\n",
        "yn_train = yscaler.transform(ylog)\n",
        "yn_train = ys_train"
      ],
      "execution_count": 448,
      "outputs": []
    },
    {
      "cell_type": "code",
      "metadata": {
        "id": "PZK2kfygoIDi"
      },
      "source": [
        "# model\n",
        "with pm.Model() as model:\n",
        "    #prior over the parameters of linear regression\n",
        "    alpha = pm.Normal('alpha', mu=0, sigma=30)\n",
        "    #we have one beta for each column of Xn\n",
        "    beta = pm.Normal('beta', mu=0, sigma=30, shape=Xn_train.shape[1])\n",
        "    #prior over the variance of the noise\n",
        "    sigma = pm.HalfCauchy('sigma_n', 5)\n",
        "    #linear regression model in matrix form\n",
        "    mu = alpha + pm.math.dot(beta, Xn_train.T)\n",
        "    #likelihood, be sure that observed is a 1d vector\n",
        "    like = pm.Normal('like', mu=mu, sigma=sigma, observed=yn_train[:,0])\n",
        "    "
      ],
      "execution_count": 449,
      "outputs": []
    },
    {
      "cell_type": "code",
      "metadata": {
        "colab": {
          "base_uri": "https://localhost:8080/",
          "height": 313
        },
        "id": "LtFEbAQisC32",
        "outputId": "19aca53e-3931-4845-d73a-6686db889191"
      },
      "source": [
        "#number of iterations of the algorithms\n",
        "iter = 50000 \n",
        "\n",
        "# run the model\n",
        "with model:\n",
        "    approximation = pm.fit(iter,method='advi')\n",
        "    \n",
        "# check the convergence\n",
        "plt.plot(approximation.hist);"
      ],
      "execution_count": 450,
      "outputs": [
        {
          "output_type": "display_data",
          "data": {
            "text/html": [
              "\n",
              "    <div>\n",
              "        <style>\n",
              "            /* Turns off some styling */\n",
              "            progress {\n",
              "                /* gets rid of default border in Firefox and Opera. */\n",
              "                border: none;\n",
              "                /* Needs to be in here for Safari polyfill so background images work as expected. */\n",
              "                background-size: auto;\n",
              "            }\n",
              "            .progress-bar-interrupted, .progress-bar-interrupted::-webkit-progress-bar {\n",
              "                background: #F44336;\n",
              "            }\n",
              "        </style>\n",
              "      <progress value='50000' class='' max='50000' style='width:300px; height:20px; vertical-align: middle;'></progress>\n",
              "      100.00% [50000/50000 00:11<00:00 Average Loss = 36,142]\n",
              "    </div>\n",
              "    "
            ],
            "text/plain": [
              "<IPython.core.display.HTML object>"
            ]
          },
          "metadata": {}
        },
        {
          "output_type": "stream",
          "name": "stderr",
          "text": [
            "Finished [100%]: Average Loss = 36,142\n"
          ]
        },
        {
          "output_type": "display_data",
          "data": {
            "image/png": "[encoded data removed]",
            "text/plain": [
              "<Figure size 432x288 with 1 Axes>"
            ]
          },
          "metadata": {
            "needs_background": "light"
          }
        }
      ]
    },
    {
      "cell_type": "code",
      "metadata": {
        "id": "F2mDtOTmuJ7C"
      },
      "source": [
        "# samples from the posterior\n",
        "posterior = approximation.sample(5000)"
      ],
      "execution_count": 451,
      "outputs": []
    },
    {
      "cell_type": "code",
      "metadata": {
        "id": "cIskuS3ToIDk",
        "colab": {
          "base_uri": "https://localhost:8080/"
        },
        "outputId": "78d4825f-57e5-4cb6-90af-e01ed7142d9d"
      },
      "source": [
        "# prediction\n",
        "ll=np.mean(posterior['alpha']) + np.dot(np.mean(posterior['beta'],axis=0), Xn_test.T)\n",
        "y_pred_BLR = np.exp(yscaler.inverse_transform(ll.reshape(-1,1)))[:,0]\n",
        "print(\"MAE = \",(np.mean(abs(y_pred_BLR - y_test))))\n",
        "print(\"MAPE = \",(np.mean(abs(y_pred_BLR - y_test) / y_test)))"
      ],
      "execution_count": 452,
      "outputs": [
        {
          "output_type": "stream",
          "name": "stdout",
          "text": [
            "MAE =  inf\n",
            "MAPE =  inf\n"
          ]
        }
      ]
    },
    {
      "cell_type": "markdown",
      "metadata": {
        "id": "q_jBBKvtoIDk"
      },
      "source": [
        "## Clustering"
      ]
    },
    {
      "cell_type": "markdown",
      "metadata": {
        "id": "VYFvbgYDaEOS"
      },
      "source": [
        "### Full Model"
      ]
    },
    {
      "cell_type": "code",
      "metadata": {
        "id": "iphQ53UE0iVw",
        "colab": {
          "base_uri": "https://localhost:8080/",
          "height": 282
        },
        "outputId": "d4ed26e9-2802-492e-a38e-3e241b730930"
      },
      "source": [
        "# training gaussian mixture model \n",
        "from sklearn.mixture import GaussianMixture\n",
        "\n",
        "gmm = GaussianMixture(n_components=4)\n",
        "# clustering by features 1, 2\n",
        "ind=[0,1]\n",
        "X_ind = np.vstack([Xn_train[:,ind],Xn_test[:,ind]])\n",
        "# Gaussian Mixture\n",
        "gmm.fit(X_ind)\n",
        "# plot blue dots\n",
        "plt.scatter(X_ind[:,0],X_ind[:,1])\n",
        "# centroids:  orange dots\n",
        "plt.scatter(gmm.means_[:,0],gmm.means_[:,1])\n"
      ],
      "execution_count": 453,
      "outputs": [
        {
          "output_type": "execute_result",
          "data": {
            "text/plain": [
              "<matplotlib.collections.PathCollection at 0x7f8daa122f90>"
            ]
          },
          "metadata": {},
          "execution_count": 453
        },
        {
          "output_type": "display_data",
          "data": {
            "image/png": "[encoded data removed]",
            "text/plain": [
              "<Figure size 432x288 with 1 Axes>"
            ]
          },
          "metadata": {
            "needs_background": "light"
          }
        }
      ]
    },
    {
      "cell_type": "code",
      "metadata": {
        "colab": {
          "base_uri": "https://localhost:8080/"
        },
        "id": "4yRNIHqJ14Tk",
        "outputId": "0c541cd1-bbc6-4a66-a0d0-d2698af93852"
      },
      "source": [
        "np.max(ys_train)"
      ],
      "execution_count": 454,
      "outputs": [
        {
          "output_type": "execute_result",
          "data": {
            "text/plain": [
              "9995000.0"
            ]
          },
          "metadata": {},
          "execution_count": 454
        }
      ]
    },
    {
      "cell_type": "markdown",
      "metadata": {
        "id": "h51OhBV5Z4tY"
      },
      "source": [
        "### Clusters"
      ]
    },
    {
      "cell_type": "code",
      "metadata": {
        "id": "vNvx_KxrLt90",
        "colab": {
          "base_uri": "https://localhost:8080/"
        },
        "outputId": "ce9362e6-003f-453e-c871-d5371c16bec2"
      },
      "source": [
        "# train clusters\n",
        "clusters_train = gmm.predict(Xn_train[:,ind])\n",
        "unique_train, counts_train = np.unique(clusters_train, return_counts=True)\n",
        "dict(zip(unique_train, counts_train))\n",
        "\n"
      ],
      "execution_count": 455,
      "outputs": [
        {
          "output_type": "execute_result",
          "data": {
            "text/plain": [
              "{0: 1284, 1: 218, 2: 861, 3: 39}"
            ]
          },
          "metadata": {},
          "execution_count": 455
        }
      ]
    },
    {
      "cell_type": "code",
      "metadata": {
        "id": "-wTT4220zFNx",
        "colab": {
          "base_uri": "https://localhost:8080/"
        },
        "outputId": "4b35586a-e714-4310-ecd2-a603ab2fb744"
      },
      "source": [
        "# test clusters\n",
        "clusters_test = gmm.predict(Xn_test[:,ind])\n",
        "unique_test, counts_test = np.unique(clusters_test, return_counts=True)\n",
        "dict(zip(unique_test, counts_test))"
      ],
      "execution_count": 456,
      "outputs": [
        {
          "output_type": "execute_result",
          "data": {
            "text/plain": [
              "{0: 271, 1: 47, 2: 172, 3: 10}"
            ]
          },
          "metadata": {},
          "execution_count": 456
        }
      ]
    },
    {
      "cell_type": "code",
      "metadata": {
        "id": "M-xid3ly2TFM"
      },
      "source": [
        "# cluster 0\n",
        "Xn0 = Xn_train[clusters_train==0,:]\n",
        "Xtestn0 = Xn_test[clusters_test==0,:]\n",
        "\n",
        "ylog0 = np.log(ys_train.astype('float')[clusters_train==0,:])\n",
        "yscaler0 = StandardScaler().fit(ylog0)\n",
        "yn0 = yscaler0.transform(ylog0)"
      ],
      "execution_count": 457,
      "outputs": []
    },
    {
      "cell_type": "code",
      "metadata": {
        "id": "9dnRVE3B2Ve4"
      },
      "source": [
        "# cluster 1\n",
        "Xn1 = Xn_train[clusters_train==1,:]\n",
        "Xtestn1 = Xn_test[clusters_test==1,:]\n",
        "ylog1 = np.log(ys_train.astype('float')[clusters_train==1,:])\n",
        "yscaler1 = StandardScaler().fit(ylog1)\n",
        "yn1 = yscaler1.transform(ylog1)"
      ],
      "execution_count": 458,
      "outputs": []
    },
    {
      "cell_type": "code",
      "metadata": {
        "id": "R35E_eoI2aAF"
      },
      "source": [
        "# cluster 2\n",
        "Xn2 = Xn_train[clusters_train==2,:]\n",
        "Xtestn2 = Xn_test[clusters_test==2,:]\n",
        "ylog2 = np.log(ys_train.astype('float')[clusters_train==2,:])\n",
        "yscaler2 = StandardScaler().fit(ylog2)\n",
        "yn2 = yscaler2.transform(ylog2)"
      ],
      "execution_count": 459,
      "outputs": []
    },
    {
      "cell_type": "code",
      "metadata": {
        "id": "2uUrWbzu2gXg"
      },
      "source": [
        "# cluster 3\n",
        "Xn3 = Xn_train[clusters_train==3,:]\n",
        "Xtestn3 = Xn_test[clusters_test==3,:]\n",
        "ylog3 = np.log(ys_train.astype('float')[clusters_train==3,:])\n",
        "yscaler3 = StandardScaler().fit(ylog3)\n",
        "yn3 = yscaler3.transform(ylog3)"
      ],
      "execution_count": 460,
      "outputs": []
    },
    {
      "cell_type": "markdown",
      "metadata": {
        "id": "dXF25ZDYoIDl"
      },
      "source": [
        "## Piecewise Model"
      ]
    },
    {
      "cell_type": "code",
      "metadata": {
        "id": "N1e-4ruvaJci",
        "colab": {
          "base_uri": "https://localhost:8080/",
          "height": 54
        },
        "outputId": "8faf0ea2-6a9f-41b5-e42c-199d0a5a0551"
      },
      "source": [
        "# model_0\n",
        "with pm.Model() as model_0:\n",
        "  # prior over the parameters of linear regression\n",
        "  alpha = pm.Normal('alpha', mu=0, sigma=30)\n",
        "  # we have a beta for each column of Xn0\n",
        "  beta = pm.Normal('beta', mu=0, sigma=30, shape=Xn0.shape[1])\n",
        "  # prior over the variance of the noise\n",
        "  sigma = pm.HalfCauchy('sigma_n', 5)\n",
        "  # linear regression relationship\n",
        "  #linear regression model in matrix form\n",
        "  mu = alpha + pm.math.dot(beta, Xn0.T)\n",
        "  # likelihood, be sure that observed is a 1d vector\n",
        "  like = pm.Normal('like', mu=mu, sigma=sigma, observed=yn0[:,0])\n",
        "\n",
        "with model_0:\n",
        "  # iterations of the algorithm\n",
        "  approximation = pm.fit(40000,method='advi')\n",
        "\n",
        "# samples from the posterior    \n",
        "posterior0 = approximation.sample(5000)\n",
        "\n"
      ],
      "execution_count": 461,
      "outputs": [
        {
          "output_type": "display_data",
          "data": {
            "text/html": [
              "\n",
              "    <div>\n",
              "        <style>\n",
              "            /* Turns off some styling */\n",
              "            progress {\n",
              "                /* gets rid of default border in Firefox and Opera. */\n",
              "                border: none;\n",
              "                /* Needs to be in here for Safari polyfill so background images work as expected. */\n",
              "                background-size: auto;\n",
              "            }\n",
              "            .progress-bar-interrupted, .progress-bar-interrupted::-webkit-progress-bar {\n",
              "                background: #F44336;\n",
              "            }\n",
              "        </style>\n",
              "      <progress value='40000' class='' max='40000' style='width:300px; height:20px; vertical-align: middle;'></progress>\n",
              "      100.00% [40000/40000 00:05<00:00 Average Loss = 1,704]\n",
              "    </div>\n",
              "    "
            ],
            "text/plain": [
              "<IPython.core.display.HTML object>"
            ]
          },
          "metadata": {}
        },
        {
          "output_type": "stream",
          "name": "stderr",
          "text": [
            "Finished [100%]: Average Loss = 1,703.1\n"
          ]
        }
      ]
    },
    {
      "cell_type": "code",
      "metadata": {
        "colab": {
          "base_uri": "https://localhost:8080/",
          "height": 54
        },
        "id": "WbQ4Pf5S2qMH",
        "outputId": "9b982a00-979c-4626-b894-88dfff72d9a4"
      },
      "source": [
        "# model_1\n",
        "with pm.Model() as model_1:\n",
        "  # prior over the parameters of linear regression\n",
        "  alpha = pm.Normal('alpha', mu=0, sigma=30)\n",
        "  # we have a beta for each column of Xn\n",
        "  beta = pm.Normal('beta', mu=0, sigma=30, shape=Xn1.shape[1])\n",
        "  # prior over the variance of the noise\n",
        "  sigma = pm.HalfCauchy('sigma_n', 5)\n",
        "  # linear regression relationship\n",
        "  #linear regression model in matrix form\n",
        "  mu = alpha + pm.math.dot(beta, Xn1.T)\n",
        "  # likelihood, # \n",
        "  like = pm.Normal('like', mu=mu, sigma=sigma, observed=yn1[:,0])\n",
        "  \n",
        "with model_1:\n",
        "  # iterations of the algorithm\n",
        "  approximation = pm.fit(40000,method='advi')\n",
        "\n",
        "# samples from the posterior    \n",
        "posterior1 = approximation.sample(5000)"
      ],
      "execution_count": 462,
      "outputs": [
        {
          "output_type": "display_data",
          "data": {
            "text/html": [
              "\n",
              "    <div>\n",
              "        <style>\n",
              "            /* Turns off some styling */\n",
              "            progress {\n",
              "                /* gets rid of default border in Firefox and Opera. */\n",
              "                border: none;\n",
              "                /* Needs to be in here for Safari polyfill so background images work as expected. */\n",
              "                background-size: auto;\n",
              "            }\n",
              "            .progress-bar-interrupted, .progress-bar-interrupted::-webkit-progress-bar {\n",
              "                background: #F44336;\n",
              "            }\n",
              "        </style>\n",
              "      <progress value='40000' class='' max='40000' style='width:300px; height:20px; vertical-align: middle;'></progress>\n",
              "      100.00% [40000/40000 00:04<00:00 Average Loss = 363.27]\n",
              "    </div>\n",
              "    "
            ],
            "text/plain": [
              "<IPython.core.display.HTML object>"
            ]
          },
          "metadata": {}
        },
        {
          "output_type": "stream",
          "name": "stderr",
          "text": [
            "Finished [100%]: Average Loss = 363.5\n"
          ]
        }
      ]
    },
    {
      "cell_type": "code",
      "metadata": {
        "colab": {
          "base_uri": "https://localhost:8080/",
          "height": 54
        },
        "id": "zFH6pFL92qA1",
        "outputId": "98203afb-cdd7-4914-df11-c3c2087c37c8"
      },
      "source": [
        "# model_2\n",
        "with pm.Model() as model_2:\n",
        "  # prior over the parameters of linear regression\n",
        "  alpha = pm.Normal('alpha', mu=0, sigma=30)\n",
        "  # we have a beta for each column of Xn\n",
        "  beta = pm.Normal('beta', mu=0, sigma=30, shape=Xn2.shape[1])\n",
        "  # prior over the variance of the noise\n",
        "  sigma = pm.HalfCauchy('sigma_n', 5)\n",
        "  # linear regression relationship\n",
        "  # linear regression model in matrix form\n",
        "  mu = alpha + pm.math.dot(beta, Xn2.T)\n",
        "  # likelihood, be sure that observed is a 1d vector\n",
        "  like = pm.Normal('like', mu=mu, sigma=sigma, observed=yn2[:,0])\n",
        "    \n",
        "with model_2:\n",
        "  # iterations of the algorithms\n",
        "  approximation = pm.fit(40000,method='advi')\n",
        "\n",
        "# samples from the posterior    \n",
        "posterior2 = approximation.sample(5000)"
      ],
      "execution_count": 463,
      "outputs": [
        {
          "output_type": "display_data",
          "data": {
            "text/html": [
              "\n",
              "    <div>\n",
              "        <style>\n",
              "            /* Turns off some styling */\n",
              "            progress {\n",
              "                /* gets rid of default border in Firefox and Opera. */\n",
              "                border: none;\n",
              "                /* Needs to be in here for Safari polyfill so background images work as expected. */\n",
              "                background-size: auto;\n",
              "            }\n",
              "            .progress-bar-interrupted, .progress-bar-interrupted::-webkit-progress-bar {\n",
              "                background: #F44336;\n",
              "            }\n",
              "        </style>\n",
              "      <progress value='40000' class='' max='40000' style='width:300px; height:20px; vertical-align: middle;'></progress>\n",
              "      100.00% [40000/40000 00:04<00:00 Average Loss = 1,812]\n",
              "    </div>\n",
              "    "
            ],
            "text/plain": [
              "<IPython.core.display.HTML object>"
            ]
          },
          "metadata": {}
        },
        {
          "output_type": "stream",
          "name": "stderr",
          "text": [
            "Finished [100%]: Average Loss = 1,813.5\n"
          ]
        }
      ]
    },
    {
      "cell_type": "code",
      "metadata": {
        "colab": {
          "base_uri": "https://localhost:8080/",
          "height": 54
        },
        "id": "kkQCKs_q2p0u",
        "outputId": "e1ad4ebf-1c37-419c-a471-a8689782f64c"
      },
      "source": [
        "# model_3\n",
        "with pm.Model() as model3:\n",
        "  # prior over the parameters of linear regression\n",
        "  alpha = pm.Normal('alpha', mu=0, sigma=30)\n",
        "  # we have a beta for each column of Xn\n",
        "  beta = pm.Normal('beta', mu=0, sigma=30, shape=Xn3.shape[1])\n",
        "  # prior over the variance of the noise\n",
        "  sigma = pm.HalfCauchy('sigma_n', 5)\n",
        "  # linear regression relationship\n",
        "  mu = alpha + pm.math.dot(beta, Xn3.T)#linear regression model in matrix form\n",
        "  # likelihood, be sure that observed is a 1d vector\n",
        "  like = pm.Normal('like', mu=mu, sigma=sigma, observed=yn3[:,0])\n",
        "    \n",
        "with model3:\n",
        "  # number of iterations of the algorithms\n",
        "  approximation = pm.fit(40000,method='advi')\n",
        "\n",
        "# samples from the posterior     \n",
        "posterior3 = approximation.sample(5000)"
      ],
      "execution_count": 464,
      "outputs": [
        {
          "output_type": "display_data",
          "data": {
            "text/html": [
              "\n",
              "    <div>\n",
              "        <style>\n",
              "            /* Turns off some styling */\n",
              "            progress {\n",
              "                /* gets rid of default border in Firefox and Opera. */\n",
              "                border: none;\n",
              "                /* Needs to be in here for Safari polyfill so background images work as expected. */\n",
              "                background-size: auto;\n",
              "            }\n",
              "            .progress-bar-interrupted, .progress-bar-interrupted::-webkit-progress-bar {\n",
              "                background: #F44336;\n",
              "            }\n",
              "        </style>\n",
              "      <progress value='40000' class='' max='40000' style='width:300px; height:20px; vertical-align: middle;'></progress>\n",
              "      100.00% [40000/40000 00:03<00:00 Average Loss = 200.17]\n",
              "    </div>\n",
              "    "
            ],
            "text/plain": [
              "<IPython.core.display.HTML object>"
            ]
          },
          "metadata": {}
        },
        {
          "output_type": "stream",
          "name": "stderr",
          "text": [
            "Finished [100%]: Average Loss = 200.11\n"
          ]
        }
      ]
    },
    {
      "cell_type": "code",
      "metadata": {
        "id": "Kf_u7_4_2ppv"
      },
      "source": [
        "#############"
      ],
      "execution_count": 465,
      "outputs": []
    },
    {
      "cell_type": "code",
      "metadata": {
        "id": "ob0MhVsn2pUV"
      },
      "source": [
        "# Posterior predictive checks (PPCs)\n",
        "def ppc(alpha,beta,sigma, X,  nsamples=500):\n",
        "    #we select nsamples random samples from the posterior\n",
        "    ind = np.random.randint(0,beta.shape[0],size=nsamples)\n",
        "    alphai = alpha[ind]\n",
        "    betai = beta[ind,:]\n",
        "    sigmai = sigma[ind]\n",
        "\n",
        "    Ypred = np.zeros((nsamples,X.shape[0]))\n",
        "    for i in range(X.shape[0]):\n",
        "        #we generate data from linear model\n",
        "        y_pred = alphai + np.dot(betai, X[i:i+1,:].T).T +np.random.randn(len(sigmai))*sigmai\n",
        "        Ypred[:,i]=y_pred[0,:]\n",
        "    return Ypred\n"
      ],
      "execution_count": 466,
      "outputs": []
    },
    {
      "cell_type": "markdown",
      "metadata": {
        "id": "wHBgUe1pcZQQ"
      },
      "source": [
        "##Simulations"
      ]
    },
    {
      "cell_type": "markdown",
      "metadata": {
        "id": "bfSEdYAUoIDn"
      },
      "source": [
        "### Only Cluster 0"
      ]
    },
    {
      "cell_type": "code",
      "metadata": {
        "colab": {
          "base_uri": "https://localhost:8080/",
          "height": 313
        },
        "id": "GBl3VPgi3WCW",
        "outputId": "c3eff612-7677-4df9-b17b-6c3827c6c4f2"
      },
      "source": [
        "#Simulation\n",
        "Ypred0 = yscaler0.inverse_transform(ppc(posterior0['alpha'],posterior0['beta'],posterior0['sigma_n'],Xn0,  nsamples=200))\n",
        "for i in range(Ypred0.shape[0]):\n",
        "    az.plot_dist( Ypred0[i,:],color='r',plot_kwargs={\"linewidth\": 0.2})\n",
        "az.plot_dist(Ypred0[i,:],color='r',plot_kwargs={\"linewidth\": 0.2}, label=\"prediction\")\n",
        "#plt.plot(np.linspace(-8,8,100),norm.pdf(np.linspace(-8,8,100),df=np.mean(posterior_1['nu'])))\n",
        "#plt.xlim([0,10e7])\n",
        "az.plot_dist(ylog0,label='true observations');\n",
        "plt.legend()\n",
        "plt.xlabel(\"log(y) - output variable\")\n",
        "plt.ylabel(\"density plot\");"
      ],
      "execution_count": 467,
      "outputs": [
        {
          "output_type": "display_data",
          "data": {
            "image/png": "[encoded data removed]",
            "text/plain": [
              "<Figure size 432x288 with 1 Axes>"
            ]
          },
          "metadata": {
            "needs_background": "light"
          }
        }
      ]
    },
    {
      "cell_type": "markdown",
      "metadata": {
        "id": "b1jN0hS53_GG"
      },
      "source": [
        "### Only Cluster 1"
      ]
    },
    {
      "cell_type": "code",
      "metadata": {
        "colab": {
          "base_uri": "https://localhost:8080/",
          "height": 313
        },
        "id": "3akyoMKn4AlQ",
        "outputId": "67a0f9f8-5dfc-46fe-ec5c-3408cade7f0e"
      },
      "source": [
        "#Simulation\n",
        "Ypred1 = yscaler1.inverse_transform(ppc(posterior1['alpha'],posterior1['beta'],posterior1['sigma_n'],Xn1,  nsamples=200))\n",
        "for i in range(Ypred1.shape[0]):\n",
        "    az.plot_dist( Ypred1[i,:],color='r',plot_kwargs={\"linewidth\": 0.2})\n",
        "az.plot_dist(Ypred1[i,:],color='r',plot_kwargs={\"linewidth\": 0.2}, label=\"prediction\")\n",
        "#plt.plot(np.linspace(-8,8,100),norm.pdf(np.linspace(-8,8,100),df=np.mean(posterior_1['nu'])))\n",
        "#plt.xlim([0,10e7])\n",
        "az.plot_dist(ylog1,label='true observations');\n",
        "plt.legend()\n",
        "plt.xlabel(\"log(y) - output variable\")\n",
        "plt.ylabel(\"density plot\");"
      ],
      "execution_count": 468,
      "outputs": [
        {
          "output_type": "display_data",
          "data": {
            "image/png": "[encoded data removed]",
            "text/plain": [
              "<Figure size 432x288 with 1 Axes>"
            ]
          },
          "metadata": {
            "needs_background": "light"
          }
        }
      ]
    },
    {
      "cell_type": "markdown",
      "metadata": {
        "id": "O52REG7v4GdD"
      },
      "source": [
        "### Only Cluster 2"
      ]
    },
    {
      "cell_type": "code",
      "metadata": {
        "colab": {
          "base_uri": "https://localhost:8080/",
          "height": 313
        },
        "id": "pJhRkXVF4Eff",
        "outputId": "7f071779-b7ad-4ebc-d5d1-44a4925311e6"
      },
      "source": [
        "#Simulation\n",
        "Ypred2 = yscaler2.inverse_transform(ppc(posterior2['alpha'],posterior2['beta'],posterior2['sigma_n'],Xn2,  nsamples=200))\n",
        "for i in range(Ypred2.shape[0]):\n",
        "    az.plot_dist( Ypred2[i,:],color='r',plot_kwargs={\"linewidth\": 0.2})\n",
        "az.plot_dist(Ypred2[i,:],color='r',plot_kwargs={\"linewidth\": 0.2}, label=\"prediction\")\n",
        "#plt.plot(np.linspace(-8,8,100),norm.pdf(np.linspace(-8,8,100),df=np.mean(posterior_1['nu'])))\n",
        "#plt.xlim([0,10e7])\n",
        "az.plot_dist(ylog2,label='true observations');\n",
        "plt.legend()\n",
        "plt.xlabel(\"log(y) - output variable\")\n",
        "plt.ylabel(\"density plot\");"
      ],
      "execution_count": 469,
      "outputs": [
        {
          "output_type": "display_data",
          "data": {
            "image/png": "[encoded data removed]",
            "text/plain": [
              "<Figure size 432x288 with 1 Axes>"
            ]
          },
          "metadata": {
            "needs_background": "light"
          }
        }
      ]
    },
    {
      "cell_type": "markdown",
      "metadata": {
        "id": "-jS2abyM4KcX"
      },
      "source": [
        "### Only Cluster 3"
      ]
    },
    {
      "cell_type": "code",
      "metadata": {
        "colab": {
          "base_uri": "https://localhost:8080/",
          "height": 313
        },
        "id": "1QMZIFeq4Eq_",
        "outputId": "841b68d5-66e7-4fab-f86d-bfe11b415d1d"
      },
      "source": [
        "#Simulation\n",
        "Ypred3 = yscaler3.inverse_transform(ppc(posterior3['alpha'],posterior3['beta'],posterior3['sigma_n'],Xn3,  nsamples=200))\n",
        "for i in range(Ypred3.shape[0]):\n",
        "    az.plot_dist( Ypred3[i,:],color='r',plot_kwargs={\"linewidth\": 0.2})\n",
        "az.plot_dist(Ypred3[i,:],color='r',plot_kwargs={\"linewidth\": 0.2}, label=\"prediction\")\n",
        "#plt.plot(np.linspace(-8,8,100),norm.pdf(np.linspace(-8,8,100),df=np.mean(posterior_1['nu'])))\n",
        "#plt.xlim([0,10e7])\n",
        "az.plot_dist(ylog3,label='true observations');\n",
        "plt.legend()\n",
        "plt.xlabel(\"log(y) - output variable\")\n",
        "plt.ylabel(\"density plot\");"
      ],
      "execution_count": 470,
      "outputs": [
        {
          "output_type": "display_data",
          "data": {
            "image/png": "[encoded data removed]",
            "text/plain": [
              "<Figure size 432x288 with 1 Axes>"
            ]
          },
          "metadata": {
            "needs_background": "light"
          }
        }
      ]
    },
    {
      "cell_type": "markdown",
      "metadata": {
        "id": "qgMUwBO7oIDq"
      },
      "source": [
        "## Overall"
      ]
    },
    {
      "cell_type": "code",
      "metadata": {
        "colab": {
          "base_uri": "https://localhost:8080/",
          "height": 313
        },
        "id": "rrsMvMbv4Bej",
        "outputId": "51df5529-36a3-4864-9216-a0c41ad7c456"
      },
      "source": [
        "# posteriors\n",
        "Ypred0 = ppc(posterior0['alpha'],posterior0['beta'],posterior0['sigma_n'],Xn0,  nsamples=200)\n",
        "Ypred1 = ppc(posterior1['alpha'],posterior1['beta'],posterior1['sigma_n'],Xn1,  nsamples=200)\n",
        "Ypred2 = ppc(posterior2['alpha'],posterior2['beta'],posterior2['sigma_n'],Xn2,  nsamples=200)\n",
        "Ypred3 = ppc(posterior3['alpha'],posterior3['beta'],posterior3['sigma_n'],Xn3,  nsamples=200)\n",
        "\n",
        "# simulation\n",
        "Ypred = np.hstack([ yscaler0.inverse_transform(Ypred0),\n",
        "                 yscaler1.inverse_transform(Ypred1),\n",
        "                 yscaler2.inverse_transform(Ypred2),\n",
        "                 yscaler3.inverse_transform(Ypred3)])\n",
        "\n",
        "# prediction\n",
        "for i in range(Ypred.shape[0]):\n",
        "    az.plot_dist( Ypred[i,:],color='r',plot_kwargs={\"linewidth\": 0.2})\n",
        "\n",
        "# plot\n",
        "az.plot_dist(Ypred[i,:],color='r',plot_kwargs={\"linewidth\": 0.2}, label=\"prediction\")\n",
        "ylog=np.vstack([ylog0,ylog1,ylog2,ylog3])\n",
        "az.plot_dist(ylog,label='true observations');\n",
        "plt.legend()\n",
        "plt.xlabel(\"log(y) - output variable\")\n",
        "plt.ylabel(\"density plot\");"
      ],
      "execution_count": 471,
      "outputs": [
        {
          "output_type": "display_data",
          "data": {
            "image/png": "[encoded data removed]",
            "text/plain": [
              "<Figure size 432x288 with 1 Axes>"
            ]
          },
          "metadata": {
            "needs_background": "light"
          }
        }
      ]
    },
    {
      "cell_type": "markdown",
      "metadata": {
        "id": "QMY9rDvVoIDq"
      },
      "source": [
        "## Test set performance"
      ]
    },
    {
      "cell_type": "code",
      "metadata": {
        "colab": {
          "base_uri": "https://localhost:8080/"
        },
        "id": "mpvRS20v41s6",
        "outputId": "70b87dfb-5da6-44ff-e0a3-085049b0535f"
      },
      "source": [
        "# cluster 0\n",
        "y_pred_BLR0 = np.exp(yscaler0.inverse_transform(np.mean(posterior0['alpha']) \n",
        "              + np.dot(np.mean(posterior0['beta'],axis=0), Xtestn0.T)))\n",
        "print(\"Size Cluster0\", np.sum(clusters_test==0), \", MAE Cluster0=\",\n",
        "      (np.mean(abs(y_pred_BLR0 - y_test[clusters_test==0]))))\n",
        "\n",
        "# cluster 1\n",
        "y_pred_BLR1 = np.exp(yscaler1.inverse_transform(np.mean(posterior1['alpha']) \n",
        "              + np.dot(np.mean(posterior1['beta'],axis=0), Xtestn1.T)))\n",
        "print(\"Size Cluster1\", np.sum(clusters_test==1), \", MAE Cluster1=\",\n",
        "      (np.mean(abs(y_pred_BLR1 - y_test[clusters_test==1]))))\n",
        "\n",
        "# cluster 2\n",
        "y_pred_BLR2 = np.exp(yscaler2.inverse_transform(np.mean(posterior2['alpha']) \n",
        "              + np.dot(np.mean(posterior2['beta'],axis=0), Xtestn2.T)))\n",
        "print(\"Size Cluster2\", np.sum(clusters_test==2), \", MAE Cluster2=\",\n",
        "      (np.mean(abs(y_pred_BLR2 - y_test[clusters_test==2]))))\n",
        "\n",
        "# cluster 3\n",
        "y_pred_BLR3 = np.exp(yscaler3.inverse_transform(np.mean(posterior3['alpha']) \n",
        "              + np.dot(np.mean(posterior3['beta'],axis=0), Xtestn3.T)))\n",
        "print(\"Size Cluster3\", np.sum(clusters_test==3), \", MAE Cluster3=\",\n",
        "      (np.mean(abs(y_pred_BLR3 - y_test[clusters_test==3]))))\n",
        "\n",
        "# joint\n",
        "joint=np.hstack([abs(y_pred_BLR0 - y_test[clusters_test==0]),\n",
        "                 abs(y_pred_BLR1 - y_test[clusters_test==1]),\n",
        "                 abs(y_pred_BLR2 - y_test[clusters_test==2]),\n",
        "                 abs(y_pred_BLR3 - y_test[clusters_test==3])])\n",
        "\n",
        "# MAE\n",
        "print(\"MAE=\",np.mean(joint))"
      ],
      "execution_count": 472,
      "outputs": [
        {
          "output_type": "stream",
          "name": "stdout",
          "text": [
            "Size Cluster0 271 , MAE Cluster0= 233734.62540084432\n",
            "Size Cluster1 47 , MAE Cluster1= 610595.0492127276\n",
            "Size Cluster2 172 , MAE Cluster2= 89910.05927267745\n",
            "Size Cluster3 10 , MAE Cluster3= 262634.8466274313\n",
            "MAE= 220261.85891560366\n"
          ]
        }
      ]
    },
    {
      "cell_type": "markdown",
      "metadata": {
        "id": "YGmB9BNkoIDr"
      },
      "source": [
        "### PPC on the Test set\n",
        "\n"
      ]
    },
    {
      "cell_type": "code",
      "metadata": {
        "colab": {
          "base_uri": "https://localhost:8080/",
          "height": 313
        },
        "id": "xjlw7GDQ43EU",
        "outputId": "ebb3cbb5-b2af-4462-a7f9-d06f5b9f049b"
      },
      "source": [
        "## Posterior predictive checks (PPCs)\n",
        "\n",
        "num_samples2 = 200\n",
        "Ypred0 = ppc(posterior0['alpha'],posterior0['beta'],posterior0['sigma_n'],Xtestn0, nsamples=num_samples2)\n",
        "Ypred1 = ppc(posterior1['alpha'],posterior1['beta'],posterior1['sigma_n'],Xtestn1, nsamples=num_samples2)\n",
        "Ypred2 = ppc(posterior2['alpha'],posterior2['beta'],posterior2['sigma_n'],Xtestn2, nsamples=num_samples2)\n",
        "Ypred3 = ppc(posterior3['alpha'],posterior3['beta'],posterior3['sigma_n'],Xtestn3, nsamples=num_samples2)\n",
        "\n",
        "# Stack arrays in sequence horizontally (column wise)\n",
        "Ypred = np.hstack([yscaler0.inverse_transform(Ypred0),\n",
        "                 yscaler1.inverse_transform(Ypred1),\n",
        "                 yscaler2.inverse_transform(Ypred2),\n",
        "                 yscaler3.inverse_transform(Ypred3)])\n",
        "\n",
        "# plot prediction shape\n",
        "for i in range(Ypred.shape[0]):\n",
        "    az.plot_dist( Ypred[i,:],color='r',plot_kwargs={\"linewidth\": 0.2})\n",
        "# label\n",
        "az.plot_dist(Ypred[i,:],color='r',plot_kwargs={\"linewidth\": 0.2}, label=\"prediction\")\n",
        "\n",
        "# true observations\n",
        "az.plot_dist(np.log(y_test),label='true observations');\n",
        "plt.legend()\n",
        "plt.xlabel(\"log(y) - output variable\")\n",
        "plt.ylabel(\"density plot\");"
      ],
      "execution_count": 473,
      "outputs": [
        {
          "output_type": "display_data",
          "data": {
            "image/png": "[encoded data removed]",
            "text/plain": [
              "<Figure size 432x288 with 1 Axes>"
            ]
          },
          "metadata": {
            "needs_background": "light"
          }
        }
      ]
    },
    {
      "cell_type": "markdown",
      "metadata": {
        "id": "f0GYCpwEM09T"
      },
      "source": [
        "# SUMMARY"
      ]
    }
  ]
}